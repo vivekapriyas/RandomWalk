{
 "cells": [
  {
   "cell_type": "markdown",
   "metadata": {},
   "source": [
    "# Oppgave 3"
   ]
  },
  {
   "cell_type": "markdown",
   "metadata": {},
   "source": [
    "# 3.2"
   ]
  },
  {
   "cell_type": "markdown",
   "metadata": {},
   "source": [
    "Sannsynligheten for å finne en partikkel i en posisjon x med potensiell energi $V(x)$ er \n",
    "$P(x)=Ze^{-\\beta V(x)}$, \n",
    "der $\\beta=\\frac{1}{k_bT}$ hvor $k_b$ er Boltzmanns konstant og T er temperaturen. Partisjonsfunksjonen $Z$ summerer over de ulike energitilstandene i et system, $Z=\\sum_{i=1}^{\\infty}e^{-\\beta V(x)}$. \n",
    "Sannsynligheten for å finne en gitt partikkel med energi $E_i$ blir dermed \n",
    "$\\pi_i = Z^{-1} e^{-\\beta E_i}$.\n",
    "\n",
    "Sannsynligheten for at en partikkel går til høyre, venstre eller står i ro kan beregnes ut i fra dette. Partisjonsfunksjonen for et slikt system blir\n",
    "\n",
    "$Z=e^{-\\beta V(x_0-1)}+e^{-\\beta V(x_0)}+e^{-\\beta V(x_0-1)}$,\n",
    "\n",
    "der $x_0$ er startposisjonen til partikkelen. Sannsynligheten for å gå til høyre, $P^{+}$, blir da\n",
    "\n",
    "$P^{+}=Z^{-1}e^{-\\beta V(x_0 +1)} = \\frac{e^{-\\beta V(x_0 +1)}}{e^{-\\beta V(x_0 -1)}+e^{-\\beta V(x_0)}+e^{-\\beta V(x)_0 + 1}} = \\frac{1}{e^{\\beta V(x_0 +1)}(e^{-\\beta V(x_0 -1)}+e^{-\\beta V(x_0)}+e^{-\\beta V(x_0 -1)})}$.\n",
    "\n",
    "$P^{+}=\\frac{1}{e^{-\\beta (V(x_0 -1)-V(x_0 +1)} + e^{-\\beta (V(x_0)-V(x_0 +1))}}$\n",
    "\n",
    "Tilsvarende utregning gir at sannsynligheten for at partikkelen står i ro, $P^{0}$ eller går til venstre, $P^{-}$, blir henholdsvis\n",
    "\n",
    "$P^{0}=\\frac{1}{e^{-\\beta (V(x_0 -1)-V(x_0)} + e^{-\\beta (V(x_0 +1)-V(x_0))}}$\n",
    "\n",
    "og\n",
    "\n",
    "$P^{-}=\\frac{1}{e^{-\\beta (V(x_0 +1)-V(x_0 -1)} + e^{-\\beta (V(x_0)-V(x_0 -1))}}$."
   ]
  },
  {
   "cell_type": "markdown",
   "metadata": {},
   "source": [
    "# Oppgave 4"
   ]
  },
  {
   "cell_type": "code",
   "execution_count": 14,
   "metadata": {},
   "outputs": [],
   "source": [
    "import numpy as np\n",
    "import matplotlib.pyplot as plt\n",
    "import scipy\n",
    "import random\n",
    "from scipy import special \n",
    "from matplotlib import rc"
   ]
  },
  {
   "cell_type": "markdown",
   "metadata": {},
   "source": [
    "Definerer konstanter og potensialer"
   ]
  },
  {
   "cell_type": "code",
   "execution_count": 15,
   "metadata": {},
   "outputs": [],
   "source": [
    "T = 273.15 #[K]\n",
    "k_B = 1.38*10**(-23) #[J/K]\n",
    "B = 1/k_B*T\n",
    "Bk = 0.01\n",
    "k= Bk/B #[J]\n",
    "\n",
    "\n",
    "def V4_1(x):\n",
    "    return k\n",
    "\n",
    "def V4_2(x):\n",
    "    return k*x\n",
    "\n",
    "def V4_3(x):\n",
    "    v = k*((x/20)+np.sin(x/5))\n",
    "    return v\n",
    "\n",
    "def V4_4(x):\n",
    "    return k*x**2\n",
    "    "
   ]
  },
  {
   "cell_type": "markdown",
   "metadata": {},
   "source": [
    "Definerer sannsynligheter"
   ]
  },
  {
   "cell_type": "code",
   "execution_count": 16,
   "metadata": {},
   "outputs": [],
   "source": [
    "def ppluss(V,x_0):\n",
    "    p = 1/(1 + np.exp(-B*(V(x_0 -1)-V(x_0+1))) + np.exp(-B*(V(x_0)-V(x_0+1))))\n",
    "    return p\n",
    "\n",
    "def p0(V,x_0):\n",
    "    p = 1/(1 + np.exp(-B*(V(x_0 -1)-V(x_0))) + np.exp(-B*(V(x_0+1)-V(x_0))))\n",
    "    return p\n",
    "\n",
    "def pminus(V,x_0):\n",
    "    p = 1/(1 + np.exp(-B*(V(x_0 +1)-V(x_0-1))) + np.exp(-B*(V(x_0)-V(x_0-1))))\n",
    "    return p"
   ]
  },
  {
   "cell_type": "markdown",
   "metadata": {},
   "source": [
    "Definerer random walk funksjonen"
   ]
  },
  {
   "cell_type": "code",
   "execution_count": 18,
   "metadata": {},
   "outputs": [],
   "source": [
    "def randomWalk(V, antall_partikler, antall_steg, startpos):\n",
    "    posisjoner = np.zeros(antall_partikler)\n",
    "    #Lager en ditctionary hvor alle de nødvendige hoppsannsynlighetene er regnet ut.\n",
    "    #Disse verdiene hentes frem hver gang en partikkel hopper, heller enn at de må regnes ut på nytt hver gang.\n",
    "    hoppsannsynlighet = {}\n",
    "    for i in range(-antall_steg, antall_steg):\n",
    "        hoppsannsynlighet[i] = [pminus(V, i), p0(V, i), ppluss(V, i)]\n",
    "    for p in range(0,antall_partikler):\n",
    "        pos = startpos\n",
    "        for s in range (0,antall_steg):\n",
    "            tilfeldig = random.uniform(0.0,1.0)\n",
    "            if (tilfeldig <= hoppsannsynlighet[pos][0]):\n",
    "                pos -= 1\n",
    "            elif (tilfeldig > (1-hoppsannsynlighet[pos][2])):\n",
    "                pos += 1\n",
    "        posisjoner[p] = pos\n",
    "    return posisjoner\n"
   ]
  },
  {
   "cell_type": "markdown",
   "metadata": {},
   "source": [
    "Vekting av elementer i liste"
   ]
  },
  {
   "cell_type": "code",
   "execution_count": 19,
   "metadata": {},
   "outputs": [],
   "source": [
    "def vekting(array):\n",
    "    andeler = []\n",
    "    posisjoner, antall = np.unique(array,return_counts=True)\n",
    "    for i in range(0,len(antall)):\n",
    "        andel = antall[i]/len(array)\n",
    "        andeler.append(andel)\n",
    "    np.array(posisjoner)\n",
    "    np.array(andeler)\n",
    "    return posisjoner, andeler\n",
    "        "
   ]
  },
  {
   "cell_type": "markdown",
   "metadata": {},
   "source": [
    "Definerer parametere"
   ]
  },
  {
   "cell_type": "code",
   "execution_count": 20,
   "metadata": {},
   "outputs": [],
   "source": [
    "antall_partikler = 10000\n",
    "antall_steg = 200\n",
    "startpos = 0\n"
   ]
  },
  {
   "cell_type": "markdown",
   "metadata": {},
   "source": [
    "# 4.1"
   ]
  },
  {
   "cell_type": "code",
   "execution_count": 23,
   "metadata": {},
   "outputs": [
    {
     "data": {
      "image/png": "[encoded data removed]",
      "text/plain": [
       "<Figure size 432x288 with 1 Axes>"
      ]
     },
     "metadata": {
      "needs_background": "light"
     },
     "output_type": "display_data"
    }
   ],
   "source": [
    "posisjoner = randomWalk(V4_1,antall_partikler,antall_steg,startpos)\n",
    "x,y = vekting(posisjoner)\n",
    "\n",
    "plt.bar(x,y,width=0.3)\n",
    "plt.show()"
   ]
  },
  {
   "cell_type": "markdown",
   "metadata": {},
   "source": [
    "## Oppgave 5"
   ]
  },
  {
   "cell_type": "markdown",
   "metadata": {},
   "source": [
    "Definerer konstanter og parametre"
   ]
  },
  {
   "cell_type": "code",
   "execution_count": 8,
   "metadata": {},
   "outputs": [],
   "source": [
    "alpha = 0.8\n",
    "T_p = 500   #Antall steg per syklus\n",
    "h = 1       #Steglengde\n",
    "N_x = 90    #antall x-verdier i en periode\n",
    "beta = 1/(1.3806*10**-(23)*298)     #Antar romtemperatur\n",
    "k = 4.1142*10**-18       #Velger k slik at k*beta = 1000\n",
    "N_p = 12*N_x    #Partikkeltall\n",
    "antall_sykluser = 10"
   ]
  },
  {
   "cell_type": "code",
   "execution_count": 9,
   "metadata": {},
   "outputs": [],
   "source": [
    "def V_2(x, alpha):\n",
    "    return 2/N_x\n",
    "\n",
    "#Må passe på at rett x-verdi blir satt inn i funksjonen, ettersom denne kun er gyldig definert\n",
    "#for [-18, 71] for alpha = 0.8\n",
    "def V_1(x, alpha):\n",
    "    if(x<0):\n",
    "        return(-x/((1-alpha)*N_x))\n",
    "    else:\n",
    "        return(x/(alpha*N_x))\n",
    "\n",
    "def koordinatoversetter(x, alpha):\n",
    "    x_verdi_til_pot = x\n",
    "    if x_verdi_til_pot >= N_x + alpha * N_x:\n",
    "        x_verdi_til_pot -= 2 * N_x\n",
    "    elif x_verdi_til_pot >= alpha * N_x:\n",
    "        x_verdi_til_pot -= N_x\n",
    "    return x_verdi_til_pot\n",
    "\n",
    "\n",
    "#Finner sannsynlighetene for å bevege seg opp, ned eller bli værende\n",
    "#Disse funksjonene likner svært på de som er definert over, men de tar også inn en del konstanter, slik at de blir\n",
    "#lettere å bruke igjen for senere utregninger med andre parametre.\n",
    "def p_pluss(x, potensial, beta, k, alpha):\n",
    "    return(1/(1+np.exp(-beta*k*(potensial(x, alpha)-potensial(x+h, alpha)))+np.exp(-beta*k*(potensial(x-h, alpha)-potensial(x+h, alpha)))))\n",
    "\n",
    "def p_null(x, potensial, beta, k, alpha):\n",
    "    return (1/(1+np.exp(-beta*k*(potensial(x+h, alpha)-potensial(x, alpha)))+np.exp(-beta*k*(potensial(x-1, alpha)-potensial(x, alpha)))))\n",
    "\n",
    "def p_minus(x, potensial, beta, k, alpha):\n",
    "    return (1/(1+np.exp(-beta*k*(potensial(x, alpha)-potensial(x-h, alpha)))+np.exp(-beta*k*(potensial(x+1, alpha)-potensial(x-1, alpha)))))\n",
    "\n",
    "#Lager startfordeling for main(startfordeling)\n",
    "def startfordeling1():\n",
    "    startfordeling1 = np.array([])\n",
    "    for i in range(2*N_x):\n",
    "        for e in range(6):\n",
    "            startfordeling1 = np.append(startfordeling1, [i])\n",
    "    #Startfordelingen er nå definert med seks partikler i hvert punkt.\n",
    "    return startfordeling1\n",
    "\n",
    "def startfordeling2():\n",
    "    startfordeling2 = np.array([])\n",
    "    for i in range(int(N_p/2)):\n",
    "        startfordeling2 = np.append(startfordeling2, 0)\n",
    "    for j in range(int(N_p/2)):\n",
    "        startfordeling2 = np.append(startfordeling2, 90)\n",
    "    #Startfordeling to har halvparten av partiklene i x=0 og den andre halvparten i x=90\n",
    "    return(startfordeling2)\n",
    "\n",
    "def plotFordeling(array):\n",
    "    verdi, antall = np.unique(array, return_counts=True)\n",
    "    #Verdien vil har antallet på korresponderende plass i antall-lista\n",
    "    plt.bar(verdi, antall)\n",
    "#    print(verdi, antall)\n",
    "    plt.ylim(0, max(antall))\n",
    "    plt.xlim(-1, 180)\n",
    "    plt.show()"
   ]
  },
  {
   "cell_type": "code",
   "execution_count": 12,
   "metadata": {},
   "outputs": [],
   "source": [
    "#Lager startfordeling i main()\n",
    "def motorProteins(startfordeling, T_p = 500, alpha = 0.8, beta = 1/(1.3806*10**-(23)*298), k = 4.1142*10**-18, antall_sykluser = 10):\n",
    "    fordeling = startfordeling\n",
    "    partikkelstrømliste = []   \n",
    "    hoppsannsynlighetV_1 = {}\n",
    "    hoppsannsynlighetV_2 = {}\n",
    "    #x_er heltallsverdier, er viktig at denne løkken ikke skaper feil pga utregninger   \n",
    "    for i in range(int(round(-(1-alpha)*N_x)), int(alpha*N_x)):\n",
    "        hoppsannsynlighetV_1[i*h] = [p_minus(i*h, V_1, beta, k, alpha), p_null(i*h, V_1, beta, k, alpha), p_pluss(i*h, V_1, beta, k, alpha)]\n",
    "    \n",
    "    for i in range(2*N_x):\n",
    "        hoppsannsynlighetV_2[i*h] = [p_minus(i*h, V_2, beta, k, alpha), p_null(i*h, V_2, beta, k, alpha), p_pluss(i*h, V_2, beta, k, alpha)]\n",
    "   \n",
    "    for e in range(0, 2*antall_sykluser):\n",
    "        #Alternerer mellom potensial 2 og 1\n",
    "        if e%2 == 0:\n",
    "            sannsynligheter = hoppsannsynlighetV_2\n",
    "        else:\n",
    "            sannsynligheter = hoppsannsynlighetV_1\n",
    "        \n",
    "        #Vi teller opp antall partikkelsteg etter hvert som tiden går, og lagrer dem i variabelen\n",
    "        #partikkelstrøm\n",
    "        partikkelstrøm = 0\n",
    "        \n",
    "        for i in range(0, T_p):\n",
    "            for j in range(0, len(fordeling)):\n",
    "                tall = random.uniform(0, 1)\n",
    "                if e%2 == 0:\n",
    "                    #X-verdien til potensial 2 kan stå som den er slik funksjonen er definert\n",
    "                    x_verdi = fordeling[j]\n",
    "                else:\n",
    "                    #Vi trenger kun å transformere x-koordinatet i potensial 1.\n",
    "                    x_verdi = koordinatoversetter(fordeling[j], alpha)\n",
    "                if tall <= sannsynligheter[x_verdi][0]:\n",
    "                    fordeling[j] -= h\n",
    "                    partikkelstrøm -= 1\n",
    "                    #Vi må passe på at ingen partikler faller utenfor det gyldige området\n",
    "                    if fordeling[j] == -1:\n",
    "                        fordeling[j] = 179\n",
    "                elif tall >= 1-sannsynligheter[x_verdi][2]:\n",
    "                    fordeling[j] += h\n",
    "                    partikkelstrøm += 1\n",
    "                    #Igjen: Vi må passe på at ingen partikler faller utenfor det gyldige området\n",
    "                    if fordeling[j] == 180:\n",
    "                        fordeling[j] = 0\n",
    "        \n",
    "#        plotFordeling(fordeling)\n",
    "        \n",
    "        partikkelstrømliste.append(partikkelstrøm/(6*2*N_x))\n",
    "    #Har nå lagret partikkelstrømmen per syklushalvdel. Må behandle den litt slik at den ønskede formen oppstår.\n",
    "    gjennomsnittsstrøm = []\n",
    "    for i in range(int(len(partikkelstrømliste)/2)):\n",
    "        gjennomsnittsstrøm.append((partikkelstrømliste[2*i] + partikkelstrømliste[2*i+1])/(2*T_p))\n",
    "    return(gjennomsnittsstrøm)\n"
   ]
  },
  {
   "cell_type": "code",
   "execution_count": 13,
   "metadata": {},
   "outputs": [
    {
     "name": "stdout",
     "output_type": "stream",
     "text": [
      "[-0.1962962962962963, -26.553703703703704, 1.3824074074074073, -14.21574074074074, -0.3638888888888889, -13.302777777777777, -0.4027777777777778, -13.430555555555555, -0.975925925925926, -14.190740740740742, -0.9361111111111111, -13.397222222222222, 0.06111111111111111, -13.894444444444444, 0.8148148148148148, -14.898148148148149, -0.5083333333333333, -13.991666666666667, 0.37037037037037035, -15.12037037037037]\n",
      "[-0.02675, -0.012833333333333332, -0.013666666666666666, -0.013833333333333335, -0.015166666666666669, -0.014333333333333333, -0.013833333333333333, -0.014083333333333333, -0.0145, -0.01475]\n"
     ]
    }
   ],
   "source": [
    "motorProteins(startfordeling1())"
   ]
  },
  {
   "cell_type": "code",
   "execution_count": null,
   "metadata": {},
   "outputs": [],
   "source": [
    "motorProteins(startfordeling2())"
   ]
  },
  {
   "cell_type": "markdown",
   "metadata": {},
   "source": [
    "Definerer den analytiske strømningsfunksjonen $J_{avg}$."
   ]
  },
  {
   "cell_type": "code",
   "execution_count": null,
   "metadata": {},
   "outputs": [],
   "source": [
    "def J_avg(alfa, N_x, T_p):\n",
    "    return (N_x/(4*T_p))*(special.erfc((alfa*N_x/2)*np.sqrt(3/T_p)) - special.erfc((((1-alfa)*N_x)/2)*np.sqrt(3/T_p)))"
   ]
  },
  {
   "cell_type": "code",
   "execution_count": null,
   "metadata": {},
   "outputs": [],
   "source": [
    "alpha = np.linspace(0,1)\n",
    "\n",
    "plt.plot(alpha,J_avg(alpha, 90, 500))\n",
    "plt.xlabel(r'$\\alpha$')\n",
    "plt.ylabel(r'$J_{avg}$')\n",
    "plt.title(r\"$J_{avg}$ som funksjon av $\\alpha$\")\n",
    "plt.show"
   ]
  },
  {
   "cell_type": "markdown",
   "metadata": {},
   "source": [
    "Når $\\alpha=0,5$ vil like mange av partiklene strømme mot høyre og til venstre, derfor vil netto strøm, $J_{avg}$, bli 0. Når $\\alpha=0$ vil det være en netto strøm mot høyre, og en tilsvarende strøm mot venstre for $\\alpha=1$."
   ]
  },
  {
   "cell_type": "code",
   "execution_count": null,
   "metadata": {},
   "outputs": [],
   "source": [
    "T_p = np.linspace(80,1500,20) #Partikkelstrøm når tiden endres. \n",
    "\n",
    "plt.plot(T_p,J_avg(0.8,10 ,T_p))\n",
    "plt.xlabel(r\"$T_{p}$\")\n",
    "plt.ylabel(r\"$J_{avg}$\")\n",
    "plt.title(r\"$J_{avg}$ som funksjon av $T_{p}$\")\n",
    "plt.show"
   ]
  },
  {
   "cell_type": "markdown",
   "metadata": {},
   "source": [
    "Når tiden på diffusjonen av partikler øker vil strømningen gå mot null. "
   ]
  }
 ],
 "metadata": {
  "kernelspec": {
   "display_name": "Python 3",
   "language": "python",
   "name": "python3"
  },
  "language_info": {
   "codemirror_mode": {
    "name": "ipython",
    "version": 3
   },
   "file_extension": ".py",
   "mimetype": "text/x-python",
   "name": "python",
   "nbconvert_exporter": "python",
   "pygments_lexer": "ipython3",
   "version": "3.7.4"
  }
 },
 "nbformat": 4,
 "nbformat_minor": 2
}
