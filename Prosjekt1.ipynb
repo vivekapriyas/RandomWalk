{
 "cells": [
  {
   "cell_type": "markdown",
   "metadata": {},
   "source": [
    "# Oppgave 3"
   ]
  },
  {
   "cell_type": "markdown",
   "metadata": {},
   "source": [
    "# 3.1"
   ]
  },
  {
   "cell_type": "markdown",
   "metadata": {},
   "source": [
    "Med konstant diffusjonskoeffisient er diffusjonslikningen i en dimensjon gitt ved\n",
    "\n",
    "\\begin{equation*}\n",
    "    \\frac{\\partial \\phi(x,t)}{\\partial t} = D\\frac{\\partial^2\\phi(x,t)}{\\partial x^2}.\n",
    "\\end{equation*}\n",
    "\n",
    "Oppgaven gir følgende løsning av diffusjonslikningen:\n",
    "\\begin{equation*}\n",
    "    \\phi(x,t) = \\frac{1}{\\sqrt{4\\pi D t}}\\int_{-\\infty}^{\\infty}dy \\, h(y) \\exp\\Big[{-\\frac{(x-y)^2}{4Dt}\\Big]}.\n",
    "\\end{equation*}\n",
    "\n",
    "Man kan teste om løsningen er gyldig ved å gjennomføre partiellderivasjonene.\n",
    "\\begin{equation*}\n",
    "    \\frac{\\partial \\phi}{\\partial t} = \\frac{-D}{4\\sqrt{\\pi} (D t)^{3/2}}\\int_{-\\infty}^{\\infty}dy \\,  h(y)\\exp\\Big[{-\\frac{(x-y)^2}{4Dt}\\Big]} + \\frac{1}{\\sqrt{\\pi}t}\\frac{1}{(4Dt)^{3/2}}\\int_{-\\infty}^{\\infty}dy \\, h(y) \\exp\\Big[{-\\frac{(x-y)^2}{4Dt}\\Big]}(x-y)^2\n",
    "\\end{equation*}\n",
    "\n",
    "\\begin{equation*}\n",
    "        \\frac{\\partial^2 \\phi}{{\\partial x}^2} = \\frac{-1}{4\\sqrt{\\pi}(Dt)^{3/2}}\\int_{-\\infty}^{\\infty}dy \\, h(y) \\exp\\Big[{-\\frac{(x-y)^2}{4Dt}\\Big]} + \\frac{1}{4^{3/2}\\sqrt{\\pi}}\\frac{1}{(Dt)^{5/2}}\\int_{-\\infty}^{\\infty}dy  \\, h(y) \\exp\\Big[{-\\frac{(x-y)^2}{4Dt}\\Big]}(x-y)^2\n",
    "\\end{equation*}\n",
    "Dersom man ganger opp den nederste likeheten med D, ser man at de to blir like, og dermed er det vist at løsningen er gyldig. \n",
    "\n",
    "Funksjonen h(y) er formen på fordelingen. Dersom man setter inn Diracs delta-funksjon som startfordeling, skal man ende opp med likningen for diffusjon fra ett punkt. Velger Diracs delta i $y = 0$:\n",
    "\n",
    "\\begin{equation*}\n",
    "    \\phi(x,t) = \\frac{1}{\\sqrt{4\\pi D t}}\\int_{-\\infty}^{\\infty}dy \\, \\delta(y=0) \\, \\exp\\Big[{-\\frac{(x-y)^2}{4Dt}\\Big]} = \\frac{1}{\\sqrt{4\\pi Dt}} \\exp{\\Big[-\\frac{x^2}{4Dt}\\Big]},\n",
    "\\end{equation*}\n",
    "som man kan gjenkjenne som diffusjon fra ett punkt i én dimensjon. Dersom man integrerer $\\phi (x,t)$ over hele x-aksen, finner man også at funksjonen er normert.\n",
    "\n",
    "Dersom vi heller setter inn en gauss-distribusjon som startfunksjon:\n",
    "\\begin{equation*}\n",
    "    \\phi(x,t) = \\frac{1}{\\sqrt{4\\pi D t}}\\int_{-\\infty}^{\\infty}dy \\, N\\exp{\\Big[-ky^2\\Big]} \\exp\\Big[{-\\frac{(x-y)^2}{4Dt}\\Big]}.\n",
    "\\end{equation*}\n",
    "\n",
    "N er en konstant som sørger for at $\\phi$ blir en normert funksjon. For å forenkle algebraen litt, innfører vi $c = 4Dt\\cdot k$. Da skrives likningen om til:\n",
    "\n",
    "\\begin{equation*}\n",
    "\\begin{aligned}\n",
    "    \\phi (x, t) &= \n",
    "    \\frac{1}{\\sqrt{4\\pi Dt}}\\int_{-\\infty}^{\\infty}dy \\, N \\exp{\\Big[-\\frac{c+1}{4Dt}\\Big(y^2 - \\frac{2xy}{c+1} + \\frac{x^2}{c+1}\\Big)\\Big]} \\\\\n",
    "    &= \\frac{N}{\\sqrt{4\\pi Dt}}\\exp{\\Big[\\frac{-cx^2}{4Dt(c+1)}\\Big]}\\int_{-\\infty}^{\\infty}\\exp{\\Big[-\\frac{c+1}{4Dt}\\Big(y-\\frac{x}{c+1}\\Big)\\Big]dy} \\\\\n",
    "    &= \\frac{N}{c+1}\\exp{\\Big[\\frac{-cx^2}{4Dt(k+1)}\\Big]}.\n",
    "\\end{aligned}\n",
    "\\end{equation*}\n",
    "Det som gjenstår er å finne normeringskonstanten:\n",
    "\n",
    "\\begin{equation*}\n",
    "\\begin{aligned}\n",
    "    1 &=\n",
    "    \\int_{-\\infty}^{\\infty}\\phi (x, t) dx \\\\\n",
    "    &= \\frac{N}{c+1}\\int_{-\\infty}^{\\infty}\\exp{\\Big[-\\frac{cx^2}{4Dt(c+1)}\\Big]}dx \\\\\n",
    "    &= N\\sqrt{\\frac{4\\pi Dt}{c}}\\\\\n",
    "    \\implies N &= \\sqrt{\\frac{k}{\\pi}}.\n",
    "\\end{aligned}\n",
    "\\end{equation*}\n",
    "\n",
    "Med dette er det forsøkt å vise at $h(y)$ bør tolkes som en normert startfordeling."
   ]
  },
  {
   "cell_type": "markdown",
   "metadata": {},
   "source": [
    "# 3.2"
   ]
  },
  {
   "cell_type": "markdown",
   "metadata": {},
   "source": [
    "Sannsynligheten for å finne en partikkel i en posisjon x med potensiell energi $V(x)$ er \n",
    "$P(x)=Ze^{-\\beta V(x)}$, \n",
    "der $\\beta=\\frac{1}{k_bT}$ hvor $k_b$ er Boltzmanns konstant og T er temperaturen. Partisjonsfunksjonen $Z$ summerer over de ulike energitilstandene i et system, $Z=\\sum_{i=1}^{\\infty}e^{-\\beta V(x)}$. \n",
    "Sannsynligheten for å finne en gitt partikkel med energi $E_i$ blir dermed \n",
    "$\\pi_i = Z^{-1} e^{-\\beta E_i}$.\n",
    "\n",
    "Sannsynligheten for at en partikkel går til høyre, venstre eller står i ro kan beregnes ut i fra dette. Partisjonsfunksjonen for et slikt system blir\n",
    "\n",
    "$Z=e^{-\\beta V(x_0-1)}+e^{-\\beta V(x_0)}+e^{-\\beta V(x_0-1)}$,\n",
    "\n",
    "der $x_0$ er startposisjonen til partikkelen. Sannsynligheten for å gå til høyre, $P^{+}$, blir da\n",
    "\n",
    "$P^{+}=Z^{-1}e^{-\\beta V(x_0 +1)} = \\frac{e^{-\\beta V(x_0 +1)}}{e^{-\\beta V(x_0 -1)}+e^{-\\beta V(x_0)}+e^{-\\beta V(x)_0 + 1}} = \\frac{1}{e^{\\beta V(x_0 +1)}(e^{-\\beta V(x_0 -1)}+e^{-\\beta V(x_0)}+e^{-\\beta V(x_0 -1)})}$.\n",
    "\n",
    "$P^{+}=\\frac{1}{e^{-\\beta (V(x_0 -1)-V(x_0 +1)} + e^{-\\beta (V(x_0)-V(x_0 +1))}}$\n",
    "\n",
    "Tilsvarende utregning gir at sannsynligheten for at partikkelen står i ro, $P^{0}$ eller går til venstre, $P^{-}$, blir henholdsvis\n",
    "\n",
    "$P^{0}=\\frac{1}{e^{-\\beta (V(x_0 -1)-V(x_0)} + e^{-\\beta (V(x_0 +1)-V(x_0))}}$\n",
    "\n",
    "og\n",
    "\n",
    "$P^{-}=\\frac{1}{e^{-\\beta (V(x_0 +1)-V(x_0 -1)} + e^{-\\beta (V(x_0)-V(x_0 -1))}}$."
   ]
  },
  {
   "cell_type": "markdown",
   "metadata": {},
   "source": [
    "# 3.3"
   ]
  },
  {
   "cell_type": "markdown",
   "metadata": {},
   "source": [
    "De beregnede sannsynlighetene burde betraktes i grensene når $k_BT >> |V(x+1) - V(x)|$ og $k_BT << |V(x+1) - V(x)|$ for alle x for å gi et inntrykk av hvilken størrelsesorden vi forholder oss til.\n",
    "\n",
    "\\noindent Når $k_BT >> |V(x+1) - V(x)|$ ser vi at $-\\beta[V(x_0+1)-V(x_0)] \\rightarrow 0$ slik at $e^{-\\beta[V(x_0+1)-V(x_0)]} \\rightarrow 1$, også for dobbel steglengde som feks. i $e^{-\\beta[V(x_0-1)-V(x_0+1)]}$. \n",
    "På den måten vil $p^{+} \\rightarrow \\frac{1}{3}, p^{0} \\rightarrow \\frac{1}{3}$ og $p^{-} \\rightarrow \\frac{1}{3}$ når $k_BT >> |V(x+1) - V(x)|$. \n",
    "Den fysiske tolkningen av dette er at den termiske energien tilgjengelig er mye større enn potensialforskjellen mellom de ulike tilstandene slik at sannsynlighetene for at partikkelen hopper til venstre, høyre eller står i ro blir like store.\n",
    "\n",
    "\n",
    "I den andre grensen $k_BT << |V(x+1) - V(x)|$ vil formen til potensialet i mye større grad påvirke sannsynlighetene. Anta feks. at $V(x_0)-V(x_0-1) < 0$,$V(x_0+1)-V(x_0-1) < 0$ og $V(x_0)-V(x_0+1) > 0$. \n",
    "Da vil $(-\\beta[V(x_0)-V(x_0-1)]) < 0$ og $(-\\beta[V(x_0+1)-V(x_0-1)]) < 0$ slik at $p^{-} \\rightarrow 0$, mens ${-\\beta[V(x_0-1)-V(x_0+1)], -\\beta[V(x_0)-V(x_0+1)]} > 0$ slik at  $p^{+}$ blir veldig stor.\n",
    "Det vil si at for et potensial som tar den formen vil sannsynligheten for å hoppe til høyre være stor, mens sannsynligheten for å hoppe til venstre mot det stigende potensialet er tilnærmet null. Dette gir også intuitivt mening fordi et varierende potensial vil skyldes et kraftfelt og det dermed vil virke en kraft i retning minkende potensial på partiklene.\n"
   ]
  },
  {
   "cell_type": "markdown",
   "metadata": {},
   "source": [
    "# Oppgave 4"
   ]
  },
  {
   "cell_type": "code",
   "execution_count": null,
   "metadata": {},
   "outputs": [],
   "source": [
    "import numpy as np\n",
    "import matplotlib.pyplot as plt\n",
    "import random\n",
    "from scipy import special \n",
    "from matplotlib import rc\n",
    "from scipy.stats import norm"
   ]
  },
  {
   "cell_type": "markdown",
   "metadata": {},
   "source": [
    "Definerer konstanter og potensialer"
   ]
  },
  {
   "cell_type": "code",
   "execution_count": null,
   "metadata": {},
   "outputs": [],
   "source": [
    "T = 273.15 #[K]\n",
    "k_B = 1.38*10**(-23) #[J/K]\n",
    "B = 1/k_B*T\n",
    "\n",
    "\n",
    "def V4_1(x,Bk):\n",
    "    return Bk/B\n",
    "\n",
    "def V4_2(x,Bk):\n",
    "    return (Bk/B)*x\n",
    "\n",
    "def V4_3(x,Bk):\n",
    "    v = (Bk/B)*((x/20)+np.sin(x/5))\n",
    "    return v\n",
    "\n",
    "def V4_4(x,Bk):\n",
    "    return (Bk/B)*x**2\n",
    "    "
   ]
  },
  {
   "cell_type": "markdown",
   "metadata": {},
   "source": [
    "Definerer sannsynligheter"
   ]
  },
  {
   "cell_type": "code",
   "execution_count": null,
   "metadata": {},
   "outputs": [],
   "source": [
    "def ppluss(V,x_0,Bk):\n",
    "    p = 1/(1 + np.exp(-B*(V(x_0 -1,Bk)-V(x_0+1,Bk))) + np.exp(-B*(V(x_0,Bk)-V(x_0+1,Bk))))\n",
    "    return p\n",
    "\n",
    "def p0(V,x_0,Bk):\n",
    "    p = 1/(1 + np.exp(-B*(V(x_0 -1,Bk)-V(x_0,Bk))) + np.exp(-B*(V(x_0+1,Bk)-V(x_0,Bk))))\n",
    "    return p\n",
    "\n",
    "def pminus(V,x_0,Bk):\n",
    "    p = 1/(1 + np.exp(-B*(V(x_0 +1,Bk)-V(x_0-1,Bk))) + np.exp(-B*(V(x_0,Bk)-V(x_0-1,Bk))))\n",
    "    return p"
   ]
  },
  {
   "cell_type": "markdown",
   "metadata": {},
   "source": [
    "Definerer random walk funksjonen"
   ]
  },
  {
   "cell_type": "code",
   "execution_count": null,
   "metadata": {},
   "outputs": [],
   "source": [
    "def randomWalk(V, antall_partikler, antall_steg, startpos,Bk):\n",
    "    posisjoner = np.zeros(antall_partikler)\n",
    "    #Lager en ditctionary hvor alle de nødvendige hoppsannsynlighetene er regnet ut.\n",
    "    #Disse verdiene hentes frem hver gang en partikkel hopper, heller enn at de må regnes ut på nytt hver gang.\n",
    "    hoppsannsynlighet = {}\n",
    "    for i in range(-antall_steg, antall_steg):\n",
    "        hoppsannsynlighet[i] = [pminus(V, i, Bk), p0(V, i, Bk), ppluss(V, i, Bk)]\n",
    "    for p in range(0,antall_partikler):\n",
    "        pos = startpos\n",
    "        for s in range (0,antall_steg):\n",
    "            tilfeldig = random.uniform(0.0,1.0)\n",
    "            if (tilfeldig <= hoppsannsynlighet[pos][0]):\n",
    "                pos -= 1\n",
    "            elif (tilfeldig > (1-hoppsannsynlighet[pos][2])):\n",
    "                pos += 1\n",
    "        posisjoner[p] = pos\n",
    "    return posisjoner\n"
   ]
  },
  {
   "cell_type": "markdown",
   "metadata": {},
   "source": [
    "Vekting av elementer i liste"
   ]
  },
  {
   "cell_type": "code",
   "execution_count": null,
   "metadata": {},
   "outputs": [],
   "source": [
    "def vekting(array):\n",
    "    andeler = []\n",
    "    posisjoner, antall = np.unique(array,return_counts=True)\n",
    "    for i in range(0,len(antall)):\n",
    "        andel = antall[i]/len(array)\n",
    "        andeler.append(andel)\n",
    "    np.array(posisjoner)\n",
    "    np.array(andeler)\n",
    "    return posisjoner, andeler\n",
    "        "
   ]
  },
  {
   "cell_type": "markdown",
   "metadata": {},
   "source": [
    "Definerer parametere"
   ]
  },
  {
   "cell_type": "code",
   "execution_count": null,
   "metadata": {},
   "outputs": [],
   "source": [
    "antall_partikler = 10000\n",
    "antall_steg = 200\n",
    "startpos = 0\n",
    "Bk = list([0.01,1,100])"
   ]
  },
  {
   "cell_type": "markdown",
   "metadata": {},
   "source": [
    "# 4.1"
   ]
  },
  {
   "cell_type": "code",
   "execution_count": null,
   "metadata": {},
   "outputs": [],
   "source": [
    "for b in Bk:\n",
    "    posisjoner1 = randomWalk(V4_1,antall_partikler,antall_steg,startpos,b)\n",
    "    x1,y1 = vekting(posisjoner1)\n",
    "\n",
    "\n",
    "    #bruker scipy.norm til å tilpasse normalfordeling\n",
    "    mu1, std1 = norm.fit(posisjoner1)\n",
    "    p1 = norm.pdf(x1,mu1,std1)\n",
    "    \n",
    "\n",
    "    \n",
    "    plt.bar(x1,y1,width=0.3)\n",
    "    plt.xlabel(\"$x$\")\n",
    "    plt.title(\"Random walk med $V(x) = k$ og \" + repr(b))\n",
    "    plt.plot(x1,p1)\n",
    "\n",
    "    plt.show()\n"
   ]
  },
  {
   "cell_type": "markdown",
   "metadata": {},
   "source": [
    "# 4.2"
   ]
  },
  {
   "cell_type": "code",
   "execution_count": null,
   "metadata": {},
   "outputs": [],
   "source": [
    "for i in range(0,2):\n",
    "    posisjoner2 = randomWalk(V4_2,antall_partikler,antall_steg,startpos,Bk[i])\n",
    "    x2,y2 = vekting(posisjoner2)\n",
    "\n",
    "\n",
    "    #bruker scipy.norm til å tilpasse normalfordeling (bare etterspurt på oppg 4.1)\n",
    "    #mu2, std2 = norm.fit(posisjoner2)\n",
    "    #p2 = norm.pdf(x2,mu2,std2)\n",
    "\n",
    "    plt.bar(x2,y2,width=0.3)\n",
    "    #plt.plot(x2,p2)\n",
    "\n",
    "    plt.show()\n",
    "    \n",
    "#Må plotte separat for Bk=100 fordi potensialet dominerer såpass mye at alle\n",
    "#partikler samler seg på et punkt og det ikke kan tilpasses normalfordeling\n",
    "posisjoner2 = randomWalk(V4_2,antall_partikler,antall_steg,startpos,100)\n",
    "x2,y2 = vekting(posisjoner2)\n",
    "\n",
    "plt.xlim(-(antall_steg+10),(antall_steg+10))\n",
    "plt.bar(x2,y2,width=2.0)\n",
    "\n",
    "plt.show()"
   ]
  },
  {
   "cell_type": "markdown",
   "metadata": {},
   "source": [
    "# 4.3"
   ]
  },
  {
   "cell_type": "code",
   "execution_count": null,
   "metadata": {},
   "outputs": [],
   "source": [
    "for b in Bk:\n",
    "    posisjoner3 = randomWalk(V4_3,antall_partikler,antall_steg,startpos,b)\n",
    "    x3,y3 = vekting(posisjoner3)\n",
    "\n",
    "\n",
    "    #bruker scipy.norm til å tilpasse normalfordeling (bare etterspurt på oppg 4.1)\n",
    "    #mu3, std3 = norm.fit(posisjoner3)\n",
    "    #p3 = norm.pdf(x3,mu3,std3)\n",
    "\n",
    "    plt.bar(x3,y3,width=0.3)\n",
    "    #plt.plot(x3,p3)\n",
    "\n",
    "    plt.show()"
   ]
  },
  {
   "cell_type": "markdown",
   "metadata": {},
   "source": [
    "# 4.4"
   ]
  },
  {
   "cell_type": "code",
   "execution_count": null,
   "metadata": {},
   "outputs": [],
   "source": [
    "for b in Bk:\n",
    "    posisjoner4 = randomWalk(V4_4,antall_partikler,antall_steg,startpos,b)\n",
    "    x4,y4 = vekting(posisjoner4)\n",
    "\n",
    "\n",
    "    plt.xlim(-(antall_steg+10),(antall_steg+10))\n",
    "    plt.bar(x4,y4,width=0.3)\n",
    "\n",
    "    plt.show()"
   ]
  },
  {
   "cell_type": "markdown",
   "metadata": {},
   "source": [
    "## Oppgave 5"
   ]
  },
  {
   "cell_type": "markdown",
   "metadata": {},
   "source": [
    "Definerer konstanter og parametre"
   ]
  },
  {
   "cell_type": "code",
   "execution_count": null,
   "metadata": {},
   "outputs": [],
   "source": [
    "alpha = 0.8\n",
    "T_p = 500   #Antall steg per syklus\n",
    "h = 1       #Steglengde\n",
    "N_x = 90    #antall x-verdier i en periode\n",
    "beta = 1/(1.3806*10**-(23)*298)     #Antar romtemperatur\n",
    "k = 4.1142*10**-18       #Velger k slik at k*beta = 1000\n",
    "N_p = 12*N_x    #Partikkeltall\n",
    "antall_sykluser = 10"
   ]
  },
  {
   "cell_type": "code",
   "execution_count": null,
   "metadata": {},
   "outputs": [],
   "source": [
    "def V_2(x, alpha):\n",
    "    return 2/N_x\n",
    "\n",
    "#Må passe på at rett x-verdi blir satt inn i funksjonen, ettersom denne kun er gyldig definert\n",
    "#for [-18, 71] for alpha = 0.8\n",
    "def V_1(x, alpha):\n",
    "    if alpha == 0:\n",
    "        return (-x/((1-alpha)*N_x))\n",
    "    if(x<0):\n",
    "        return(-x/((1-alpha)*N_x))\n",
    "    else:\n",
    "        return(x/(alpha*N_x))\n",
    "\n",
    "def koordinatoversetter(x, alpha):\n",
    "    x_verdi_til_pot = x\n",
    "    if x_verdi_til_pot >= N_x + alpha * N_x:\n",
    "        x_verdi_til_pot -= 2 * N_x\n",
    "    elif x_verdi_til_pot >= alpha * N_x:\n",
    "        x_verdi_til_pot -= N_x\n",
    "    return x_verdi_til_pot\n",
    "\n",
    "\n",
    "#Finner sannsynlighetene for å bevege seg opp, ned eller bli værende\n",
    "#Disse funksjonene likner svært på de som er definert over, men de tar også inn en del konstanter, slik at de blir\n",
    "#lettere å bruke igjen for senere utregninger med andre parametre.\n",
    "def p_pluss(x, potensial, beta, k, alpha):\n",
    "    return(1/(1+np.exp(-beta*k*(potensial(x, alpha)-potensial(x+h, alpha)))+np.exp(-beta*k*(potensial(x-h, alpha)-potensial(x+h, alpha)))))\n",
    "\n",
    "def p_null(x, potensial, beta, k, alpha):\n",
    "    return (1/(1+np.exp(-beta*k*(potensial(x+h, alpha)-potensial(x, alpha)))+np.exp(-beta*k*(potensial(x-1, alpha)-potensial(x, alpha)))))\n",
    "\n",
    "def p_minus(x, potensial, beta, k, alpha):\n",
    "    return (1/(1+np.exp(-beta*k*(potensial(x, alpha)-potensial(x-h, alpha)))+np.exp(-beta*k*(potensial(x+1, alpha)-potensial(x-1, alpha)))))\n",
    "\n",
    "#Lager startfordeling for main(startfordeling)\n",
    "def startfordeling1(N_p=90*12,N_x=90):\n",
    "    startfordeling1 = np.array([])\n",
    "    for i in range(2*N_x):\n",
    "        for e in range(int(N_p/(2*N_x))):\n",
    "            startfordeling1 = np.append(startfordeling1, [i])\n",
    "    #Startfordelingen er nå definert med seks partikler i hvert punkt.\n",
    "    return startfordeling1\n",
    "\n",
    "def startfordeling2(N_p=90*12,N_x=90):\n",
    "    startfordeling2 = np.array([])\n",
    "    for i in range(int(N_p/2)):\n",
    "        startfordeling2 = np.append(startfordeling2, 0)\n",
    "    for j in range(int(N_p/2)):\n",
    "        startfordeling2 = np.append(startfordeling2, 90)\n",
    "    #Startfordeling to har halvparten av partiklene i x=0 og den andre halvparten i x=90\n",
    "    return(startfordeling2)\n",
    "\n",
    "def plotFordeling(array):\n",
    "    verdi, antall = np.unique(array, return_counts=True)\n",
    "    #Verdien vil har antallet på korresponderende plass i antall-lista\n",
    "    plt.bar(verdi, antall)\n",
    "#    print(verdi, antall)\n",
    "    plt.ylim(0, max(antall))\n",
    "    plt.xlim(-1, 180)\n",
    "    plt.show()"
   ]
  },
  {
   "cell_type": "code",
   "execution_count": null,
   "metadata": {},
   "outputs": [],
   "source": [
    "#Lager startfordeling i main()\n",
    "def motorProteins(startfordeling, T_p = 500, alpha = 0.8, beta = 1/(1.3806*10**-(23)*298), k = 4.1142*10**-18, antall_sykluser = 10, N_x=90):\n",
    "    fordeling = startfordeling\n",
    "    partikkelstrømliste = []   \n",
    "    hoppsannsynlighetV_1 = {}\n",
    "    hoppsannsynlighetV_2 = {}\n",
    "    #x_er heltallsverdier, er viktig at denne løkken ikke skaper feil pga utregninger   \n",
    "    for i in range(int(round(-(1-alpha)*N_x)), int(alpha*N_x)):\n",
    "        hoppsannsynlighetV_1[i*h] = [p_minus(i*h, V_1, beta, k, alpha), p_null(i*h, V_1, beta, k, alpha), p_pluss(i*h, V_1, beta, k, alpha)]\n",
    "    \n",
    "    for i in range(2*N_x):\n",
    "        hoppsannsynlighetV_2[i*h] = [p_minus(i*h, V_2, beta, k, alpha), p_null(i*h, V_2, beta, k, alpha), p_pluss(i*h, V_2, beta, k, alpha)]\n",
    "   \n",
    "    for e in range(0, 2*antall_sykluser):\n",
    "        #Alternerer mellom potensial 2 og 1\n",
    "        if e%2 == 0:\n",
    "            sannsynligheter = hoppsannsynlighetV_2\n",
    "        else:\n",
    "            sannsynligheter = hoppsannsynlighetV_1\n",
    "        \n",
    "        #Vi teller opp antall partikkelsteg etter hvert som tiden går, og lagrer dem i variabelen\n",
    "        #partikkelstrøm\n",
    "        partikkelstrøm = 0\n",
    "        \n",
    "        for i in range(0, T_p):\n",
    "            for j in range(0, len(fordeling)):\n",
    "                tall = random.uniform(0, 1)\n",
    "                if e%2 == 0:\n",
    "                    #X-verdien til potensial 2 kan stå som den er slik funksjonen er definert\n",
    "                    x_verdi = int(fordeling[j])\n",
    "                else:\n",
    "                    #Vi trenger kun å transformere x-koordinatet i potensial 1.\n",
    "                    x_verdi = int(koordinatoversetter(fordeling[j], alpha))\n",
    "                if tall <= sannsynligheter[x_verdi][0]:\n",
    "                    fordeling[j] -= h\n",
    "                    partikkelstrøm -= 1\n",
    "                    #Vi må passe på at ingen partikler faller utenfor det gyldige området\n",
    "                    if fordeling[j] == -1:\n",
    "                        fordeling[j] = 179\n",
    "                elif tall >= 1-sannsynligheter[x_verdi][2]:\n",
    "                    fordeling[j] += h\n",
    "                    partikkelstrøm += 1\n",
    "                    #Igjen: Vi må passe på at ingen partikler faller utenfor det gyldige området\n",
    "                    if fordeling[j] == 180:\n",
    "                        fordeling[j] = 0\n",
    "        \n",
    "        #plotFordeling(fordeling)\n",
    "        \n",
    "        partikkelstrømliste.append(partikkelstrøm/(6*2*N_x))\n",
    "    #Har nå lagret partikkelstrømmen per syklushalvdel. Må behandle den litt slik at den ønskede formen oppstår.\n",
    "    gjennomsnittsstrøm = []\n",
    "    for i in range(int(len(partikkelstrømliste)/2)):\n",
    "        gjennomsnittsstrøm.append((partikkelstrømliste[2*i] + partikkelstrømliste[2*i+1])/(2*T_p))\n",
    "    return(gjennomsnittsstrøm)\n"
   ]
  },
  {
   "cell_type": "code",
   "execution_count": null,
   "metadata": {},
   "outputs": [],
   "source": [
    "motorProteins(startfordeling1(N_p,N_x),antall_sykluser=1)"
   ]
  },
  {
   "cell_type": "code",
   "execution_count": null,
   "metadata": {},
   "outputs": [],
   "source": [
    "motorProteins(startfordeling2(N_p,N_x), alpha=0, antall_sykluser = 1)"
   ]
  },
  {
   "cell_type": "markdown",
   "metadata": {},
   "source": [
    "Definerer den analytiske strømningsfunksjonen $J_{avg}$."
   ]
  },
  {
   "cell_type": "code",
   "execution_count": null,
   "metadata": {},
   "outputs": [],
   "source": [
    "def J_avg(alfa, N_x, T_p):\n",
    "    return (N_x/(4*T_p))*(special.erfc((alfa*N_x/2)*np.sqrt(3/T_p)) - special.erfc((((1-alfa)*N_x)/2)*np.sqrt(3/T_p)))"
   ]
  },
  {
   "cell_type": "code",
   "execution_count": null,
   "metadata": {},
   "outputs": [],
   "source": [
    "#Oppgave 5.2\n",
    "\n",
    "x_verdier =[]\n",
    "y_verdier=[]\n",
    "for T_p in range(1,500,50):\n",
    "    x_verdier.append(T_p)\n",
    "    y_verdier.append(motorProteins(startfordeling2(3600,90),T_p, 0.8, 1/(1.3806*10**-(23)*298), 4.1142*10**-18, 1,90) [0])\n",
    "\n",
    "plt.plot(x_verdier, y_verdier)    \n",
    "\n",
    "plt.xlabel(r'$T_{p}$')\n",
    "plt.ylabel(r'$J_{avg}$')\n",
    "plt.title(r\"$J_{avg}$ som funksjon av $T_{p}$\")\n",
    "plt.show()"
   ]
  },
  {
   "cell_type": "code",
   "execution_count": null,
   "metadata": {},
   "outputs": [],
   "source": [
    "#Oppgave 6.2: \n",
    "\n",
    "x_verdier =[]\n",
    "y_verdier=[]\n",
    "T_p2 = np.linspace(80,1500,20)\n",
    "\n",
    "for T_p in range(80,1500,20):\n",
    "    x_verdier.append(T_p)\n",
    "    y_verdier.append(motorProteins(startfordeling2(3600,10),T_p, 0.8, 1/(1.3806*10**-(23)*298), 4.1142*10**-18, 1,10) [0])\n",
    "\n",
    "plt.figure()\n",
    "plt.plot(x_verdier, y_verdier)\n",
    "plt.plot(T_p2, J_avg(0.8,10,T_p2))\n",
    "plt.xlabel(r'$T_{p}$')\n",
    "plt.ylabel(r'$J_{avg}$')\n",
    "plt.title(r\"$J_{avg}$ som funksjon av $T_{p}$\")\n",
    "plt.show()"
   ]
  },
  {
   "cell_type": "code",
   "execution_count": null,
   "metadata": {},
   "outputs": [],
   "source": [
    "#Oppgave 5.3 og 6.1 \n",
    "\n",
    "x_verdier = []\n",
    "y_verdier = []\n",
    "\n",
    "alpha= list(np.linspace(0,1,50))\n",
    "\n",
    "for a in alpha:\n",
    "    x_verdier.append(a)\n",
    "    y_verdier.append(motorProteins(startfordeling2(3600,90), T_p=500, alpha=a, beta=1, k=1000, antall_sykluser= 1 ,N_x=90) [0])\n",
    "\n",
    "plt.figure()\n",
    "plt.plot(alpha, J_avg(alpha, 90,500))\n",
    "plt.plot(x_verdier, y_verdier)    \n",
    "plt.xlabel(r'$\\alpha$')\n",
    "plt.ylabel(r'$J_{avg}$')\n",
    "plt.title(r\"$J_{avg}$ som funksjon av $\\alpha$\")\n",
    "plt.show()"
   ]
  },
  {
   "cell_type": "code",
   "execution_count": null,
   "metadata": {},
   "outputs": [],
   "source": [
    "#Oppgave 6.3\n",
    "\n",
    "Bk = np.array([0.01,1,2,3,5,10])\n",
    "x_verdier=[]\n",
    "y_verdier=[]\n",
    "\n",
    "for i in Bk:\n",
    "    x_verdier.append(i)\n",
    "    y_verdier.append(motorProteins(startfordeling2(3600,90), T_p=500, alpha=0.8, beta=1, k=i, antall_sykluser= 1 ,N_x=90) [0])\n",
    "\n",
    "plt.figure()\n",
    "plt.plot(x_verdier, y_verdier)\n",
    "plt.show()"
   ]
  },
  {
   "cell_type": "markdown",
   "metadata": {},
   "source": [
    "Når $\\alpha=0,5$ vil like mange av partiklene strømme mot høyre og til venstre, derfor vil netto strøm, $J_{avg}$, bli 0. Når $\\alpha=0$ vil det være en netto strøm mot høyre, og en tilsvarende strøm mot venstre for $\\alpha=1$."
   ]
  },
  {
   "cell_type": "markdown",
   "metadata": {},
   "source": [
    "Når tiden på diffusjonen av partikler øker vil strømningen gå mot null. "
   ]
  }
 ],
 "metadata": {
  "kernelspec": {
   "display_name": "Python 3",
   "language": "python",
   "name": "python3"
  },
  "language_info": {
   "codemirror_mode": {
    "name": "ipython",
    "version": 3
   },
   "file_extension": ".py",
   "mimetype": "text/x-python",
   "name": "python",
   "nbconvert_exporter": "python",
   "pygments_lexer": "ipython3",
   "version": "3.7.6"
  }
 },
 "nbformat": 4,
 "nbformat_minor": 2
}
