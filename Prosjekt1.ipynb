{
 "cells": [
  {
   "cell_type": "markdown",
   "metadata": {},
   "source": [
    "# Oppgave 3"
   ]
  },
  {
   "cell_type": "markdown",
   "metadata": {},
   "source": [
    "# 3.1"
   ]
  },
  {
   "cell_type": "markdown",
   "metadata": {},
   "source": [
    "Med konstant diffusjonskoeffisient er diffusjonslikningen i en dimensjon gitt ved\n",
    "\n",
    "\\begin{equation*}\n",
    "    \\frac{\\partial \\phi(x,t)}{\\partial t} = D\\frac{\\partial^2\\phi(x,t)}{\\partial x^2}.\n",
    "\\end{equation*}\n",
    "\n",
    "Oppgaven gir følgende løsning av diffusjonslikningen:\n",
    "\\begin{equation*}\n",
    "    \\phi(x,t) = \\frac{1}{\\sqrt{4\\pi D t}}\\int_{-\\infty}^{\\infty}dy \\, h(y) \\exp\\Big[{-\\frac{(x-y)^2}{4Dt}\\Big]}.\n",
    "\\end{equation*}\n",
    "\n",
    "Man kan teste om løsningen er gyldig ved å gjennomføre partiellderivasjonene.\n",
    "\\begin{equation*}\n",
    "    \\frac{\\partial \\phi}{\\partial t} = \\frac{-D}{4\\sqrt{\\pi} (D t)^{3/2}}\\int_{-\\infty}^{\\infty}dy \\,  h(y)\\exp\\Big[{-\\frac{(x-y)^2}{4Dt}\\Big]} + \\frac{1}{\\sqrt{\\pi}t}\\frac{1}{(4Dt)^{3/2}}\\int_{-\\infty}^{\\infty}dy \\, h(y) \\exp\\Big[{-\\frac{(x-y)^2}{4Dt}\\Big]}(x-y)^2\n",
    "\\end{equation*}\n",
    "\n",
    "\\begin{equation*}\n",
    "        \\frac{\\partial^2 \\phi}{{\\partial x}^2} = \\frac{-1}{4\\sqrt{\\pi}(Dt)^{3/2}}\\int_{-\\infty}^{\\infty}dy \\, h(y) \\exp\\Big[{-\\frac{(x-y)^2}{4Dt}\\Big]} + \\frac{1}{4^{3/2}\\sqrt{\\pi}}\\frac{1}{(Dt)^{5/2}}\\int_{-\\infty}^{\\infty}dy  \\, h(y) \\exp\\Big[{-\\frac{(x-y)^2}{4Dt}\\Big]}(x-y)^2\n",
    "\\end{equation*}\n",
    "Dersom man ganger opp den nederste likeheten med D, ser man at de to blir like, og dermed er det vist at løsningen er gyldig. \n",
    "\n",
    "Funksjonen h(y) er formen på fordelingen. Dersom man setter inn Diracs delta-funksjon som startfordeling, skal man ende opp med likningen for diffusjon fra ett punkt. Velger Diracs delta i $y = 0$:\n",
    "\n",
    "\\begin{equation*}\n",
    "    \\phi(x,t) = \\frac{1}{\\sqrt{4\\pi D t}}\\int_{-\\infty}^{\\infty}dy \\, \\delta(y=0) \\, \\exp\\Big[{-\\frac{(x-y)^2}{4Dt}\\Big]} = \\frac{1}{\\sqrt{4\\pi Dt}} \\exp{\\Big[-\\frac{x^2}{4Dt}\\Big]},\n",
    "\\end{equation*}\n",
    "som man kan gjenkjenne som diffusjon fra ett punkt i én dimensjon. Dersom man integrerer $\\phi (x,t)$ over hele x-aksen, finner man også at funksjonen er normert.\n",
    "\n",
    "Dersom vi heller setter inn en gauss-distribusjon som startfunksjon:\n",
    "\\begin{equation*}\n",
    "    \\phi(x,t) = \\frac{1}{\\sqrt{4\\pi D t}}\\int_{-\\infty}^{\\infty}dy \\, N\\exp{\\Big[-ky^2\\Big]} \\exp\\Big[{-\\frac{(x-y)^2}{4Dt}\\Big]}.\n",
    "\\end{equation*}\n",
    "\n",
    "N er en konstant som sørger for at $\\phi$ blir en normert funksjon. For å forenkle algebraen litt, innfører vi $c = 4Dt\\cdot k$. Da skrives likningen om til:\n",
    "\n",
    "\\begin{equation*}\n",
    "\\begin{aligned}\n",
    "    \\phi (x, t) &= \n",
    "    \\frac{1}{\\sqrt{4\\pi Dt}}\\int_{-\\infty}^{\\infty}dy \\, N \\exp{\\Big[-\\frac{c+1}{4Dt}\\Big(y^2 - \\frac{2xy}{c+1} + \\frac{x^2}{c+1}\\Big)\\Big]} \\\\\n",
    "    &= \\frac{N}{\\sqrt{4\\pi Dt}}\\exp{\\Big[\\frac{-cx^2}{4Dt(c+1)}\\Big]}\\int_{-\\infty}^{\\infty}\\exp{\\Big[-\\frac{c+1}{4Dt}\\Big(y-\\frac{x}{c+1}\\Big)\\Big]dy} \\\\\n",
    "    &= \\frac{N}{c+1}\\exp{\\Big[\\frac{-cx^2}{4Dt(k+1)}\\Big]}.\n",
    "\\end{aligned}\n",
    "\\end{equation*}\n",
    "Det som gjenstår er å finne normeringskonstanten:\n",
    "\n",
    "\\begin{equation*}\n",
    "\\begin{aligned}\n",
    "    1 &=\n",
    "    \\int_{-\\infty}^{\\infty}\\phi (x, t) dx \\\\\n",
    "    &= \\frac{N}{c+1}\\int_{-\\infty}^{\\infty}\\exp{\\Big[-\\frac{cx^2}{4Dt(c+1)}\\Big]}dx \\\\\n",
    "    &= N\\sqrt{\\frac{4\\pi Dt}{c}}\\\\\n",
    "    \\implies N &= \\sqrt{\\frac{k}{\\pi}}.\n",
    "\\end{aligned}\n",
    "\\end{equation*}\n",
    "\n",
    "Med dette er det forsøkt å vise at $h(y)$ bør tolkes som en normert startfordeling."
   ]
  },
  {
   "cell_type": "markdown",
   "metadata": {},
   "source": [
    "# 3.2"
   ]
  },
  {
   "cell_type": "markdown",
   "metadata": {},
   "source": [
    "Sannsynligheten for å finne en partikkel i en posisjon x med potensiell energi $V(x)$ er \n",
    "$P(x)=Ze^{-\\beta V(x)}$, \n",
    "der $\\beta=\\frac{1}{k_bT}$ hvor $k_b$ er Boltzmanns konstant og T er temperaturen. Partisjonsfunksjonen $Z$ summerer over de ulike energitilstandene i et system, $Z=\\sum_{i=1}^{\\infty}e^{-\\beta V(x)}$. \n",
    "Sannsynligheten for å finne en gitt partikkel med energi $E_i$ blir dermed \n",
    "$\\pi_i = Z^{-1} e^{-\\beta E_i}$.\n",
    "\n",
    "Sannsynligheten for at en partikkel går til høyre, venstre eller står i ro kan beregnes ut i fra dette. Partisjonsfunksjonen for et slikt system blir\n",
    "\n",
    "\\begin{equation*}\n",
    "Z=e^{-\\beta V(x_0-1)}+e^{-\\beta V(x_0)}+e^{-\\beta V(x_0-1)},\n",
    "\\end{equation*}\n",
    "\n",
    "der $x_0$ er startposisjonen til partikkelen. Sannsynligheten for å gå til høyre, $P^{+}$, blir da\n",
    "\n",
    "\\begin{equation*}\n",
    "P^{+}=Z^{-1}e^{-\\beta V(x_0 +1)} = \\frac{e^{-\\beta V(x_0 +1)}}{e^{-\\beta V(x_0 -1)}+e^{-\\beta V(x_0)}+e^{-\\beta V(x_0 + 1)}} = \\frac{1}{ e^{\\beta V(x_0 +1)}[e^{-\\beta V(x_0 -1)}+e^{-\\beta V(x_0)}+e^{-\\beta V(x_0 -1)}]}.\n",
    "\\end{equation*}\n",
    "\n",
    "\\begin{equation*}\n",
    "P^{+}=\\frac{1}{1+ e^{-\\beta [V(x_0 -1)-V(x_0 +1)} + e^{-\\beta (V(x_0)-V(x_0 +1)]}}\n",
    "\\end{equation*}\n",
    "\n",
    "Tilsvarende utregning gir at sannsynligheten for at partikkelen står i ro, $P^{0}$ eller går til venstre, $P^{-}$, blir henholdsvis\n",
    "\n",
    "\\begin{equation*}\n",
    "P^{0}=\\frac{1}{1+e^{-\\beta [V(x_0 -1)-V(x_0)} + e^{-\\beta (V(x_0 +1)-V(x_0)]}}\n",
    "\\end{equation*}\n",
    "\n",
    "og\n",
    "\\begin{equation*}\n",
    "P^{-}=\\frac{1}{1 + e^{-\\beta [V(x_0 +1)-V(x_0 -1)} + e^{-\\beta (V(x_0)-V(x_0 -1)]}}.\n",
    "\\end{equation*}"
   ]
  },
  {
   "cell_type": "markdown",
   "metadata": {},
   "source": [
    "# 3.3"
   ]
  },
  {
   "cell_type": "markdown",
   "metadata": {},
   "source": [
    "De beregnede sannsynlighetene burde betraktes i grensene når $k_BT >> |V(x+1) - V(x)|$ og $k_BT << |V(x+1) - V(x)|$ for alle x for å gi et inntrykk av hvilken størrelsesorden vi forholder oss til.\n",
    "\n",
    "Når $k_BT >> |V(x+1) - V(x)|$ ser vi at $-\\beta[V(x_0+1)-V(x_0)] \\rightarrow 0$ slik at $e^{-\\beta[V(x_0+1)-V(x_0)]} \\rightarrow 1$, også for dobbel steglengde som feks. i $e^{-\\beta[V(x_0-1)-V(x_0+1)]}$. \n",
    "På den måten vil $p^{+} \\rightarrow \\frac{1}{3}, p^{0} \\rightarrow \\frac{1}{3}$ og $p^{-} \\rightarrow \\frac{1}{3}$ når $k_BT >> |V(x+1) - V(x)|$. \n",
    "Den fysiske tolkningen av dette er at den termiske energien tilgjengelig er mye større enn potensialforskjellen mellom de ulike tilstandene slik at sannsynlighetene for at partikkelen hopper til venstre, høyre eller står i ro blir like store.\n",
    "\n",
    "\n",
    "I den andre grensen $k_BT << |V(x+1) - V(x)|$ vil formen til potensialet i mye større grad påvirke sannsynlighetene. Anta feks. at $V(x_0)-V(x_0-1) < 0$,$V(x_0+1)-V(x_0-1) < 0$ og $V(x_0)-V(x_0+1) > 0$. \n",
    "Da vil $(-\\beta[V(x_0)-V(x_0-1)]) < 0$ og $(-\\beta[V(x_0+1)-V(x_0-1)]) < 0$ slik at $p^{-} \\rightarrow 0$, mens ${-\\beta[V(x_0-1)-V(x_0+1)], -\\beta[V(x_0)-V(x_0+1)]} > 0$ slik at  $p^{+}$ blir veldig stor.\n",
    "Det vil si at for et potensial som tar den formen vil sannsynligheten for å hoppe til høyre være stor, mens sannsynligheten for å hoppe til venstre mot det stigende potensialet er tilnærmet null. Dette gir også intuitivt mening fordi et varierende potensial vil skyldes et kraftfelt og det dermed vil virke en kraft i retning minkende potensial på partiklene.\n"
   ]
  },
  {
   "cell_type": "markdown",
   "metadata": {},
   "source": [
    "# Oppgave 4"
   ]
  },
  {
   "cell_type": "code",
   "execution_count": 1,
   "metadata": {},
   "outputs": [],
   "source": [
    "import numpy as np\n",
    "import matplotlib.pyplot as plt\n",
    "import random\n",
    "from scipy import special \n",
    "from matplotlib import rc\n",
    "from scipy.stats import norm"
   ]
  },
  {
   "cell_type": "markdown",
   "metadata": {},
   "source": [
    "Definerer konstanter og potensialer"
   ]
  },
  {
   "cell_type": "code",
   "execution_count": 2,
   "metadata": {},
   "outputs": [],
   "source": [
    "T = 273.15 #[K]\n",
    "k_B = 1.38*10**(-23) #[J/K]\n",
    "B = 1/k_B*T\n",
    "\n",
    "\n",
    "def V4_1(x,Bk):\n",
    "    return Bk/B\n",
    "\n",
    "def V4_2(x,Bk):\n",
    "    return (Bk/B)*x\n",
    "\n",
    "def V4_3(x,Bk):\n",
    "    v = (Bk/B)*((x/20)+np.sin(x/5))\n",
    "    return v\n",
    "\n",
    "def V4_4(x,Bk):\n",
    "    return (Bk/B)*x**2\n",
    "    "
   ]
  },
  {
   "cell_type": "markdown",
   "metadata": {},
   "source": [
    "Definerer sannsynligheter"
   ]
  },
  {
   "cell_type": "code",
   "execution_count": 3,
   "metadata": {},
   "outputs": [],
   "source": [
    "def ppluss(V,x_0,Bk):\n",
    "    p = 1/(1 + np.exp(-B*(V(x_0 -1,Bk)-V(x_0+1,Bk))) + np.exp(-B*(V(x_0,Bk)-V(x_0+1,Bk))))\n",
    "    return p\n",
    "\n",
    "def p0(V,x_0,Bk):\n",
    "    p = 1/(1 + np.exp(-B*(V(x_0 -1,Bk)-V(x_0,Bk))) + np.exp(-B*(V(x_0+1,Bk)-V(x_0,Bk))))\n",
    "    return p\n",
    "\n",
    "def pminus(V,x_0,Bk):\n",
    "    p = 1/(1 + np.exp(-B*(V(x_0 +1,Bk)-V(x_0-1,Bk))) + np.exp(-B*(V(x_0,Bk)-V(x_0-1,Bk))))\n",
    "    return p"
   ]
  },
  {
   "cell_type": "markdown",
   "metadata": {},
   "source": [
    "Definerer random walk funksjonen"
   ]
  },
  {
   "cell_type": "code",
   "execution_count": 4,
   "metadata": {},
   "outputs": [],
   "source": [
    "def randomWalk(V, antall_partikler, antall_steg, startpos,Bk):\n",
    "    posisjoner = np.zeros(antall_partikler)\n",
    "    #Lager en ditctionary hvor alle de nødvendige hoppsannsynlighetene er regnet ut.\n",
    "    #Disse verdiene hentes frem hver gang en partikkel hopper, heller enn at de må regnes ut på nytt hver gang.\n",
    "    hoppsannsynlighet = {}\n",
    "    for i in range(-antall_steg, antall_steg):\n",
    "        hoppsannsynlighet[i] = [pminus(V, i, Bk), p0(V, i, Bk), ppluss(V, i, Bk)]\n",
    "    for p in range(0,antall_partikler):\n",
    "        pos = startpos\n",
    "        for s in range (0,antall_steg):\n",
    "            tilfeldig = random.uniform(0.0,1.0)\n",
    "            if (tilfeldig <= hoppsannsynlighet[pos][0]):\n",
    "                pos -= 1\n",
    "            elif (tilfeldig > (1-hoppsannsynlighet[pos][2])):\n",
    "                pos += 1\n",
    "        posisjoner[p] = pos\n",
    "    return posisjoner\n",
    "\n",
    "\n",
    "#litt endret for å kunne ta inn en startfordeling til tilleggsoppgaven i oppg. 4.3\n",
    "def randomWalk2(V, antall_partikler, antall_steg, startfordeling, Bk):\n",
    "    posisjoner = startfordeling\n",
    "    minpos = int((np.amin(startfordeling)))\n",
    "    makspos = int(np.amax(startfordeling))\n",
    "    hopp = {}\n",
    "    for i in range(-(abs(minpos)+antall_steg),abs(makspos)+antall_steg):\n",
    "        hopp[i]= [pminus(V,i,Bk),p0(V,i,Bk),ppluss(V,i,Bk)]\n",
    "    for p in range(0,antall_partikler):\n",
    "        pos = startfordeling[p]\n",
    "        for s in range(0,antall_steg):\n",
    "            tilfeldig = random.uniform(0.0,1.0)\n",
    "            if (tilfeldig <= hopp[pos][0]):\n",
    "                pos -= 1\n",
    "            elif (tilfeldig > (1-hopp[pos][2])):\n",
    "                pos += 1\n",
    "            posisjoner[p] = pos\n",
    "    return posisjoner"
   ]
  },
  {
   "cell_type": "markdown",
   "metadata": {},
   "source": [
    "Vekting av elementer i liste"
   ]
  },
  {
   "cell_type": "code",
   "execution_count": 5,
   "metadata": {},
   "outputs": [],
   "source": [
    "def vekting(array):\n",
    "    andeler = []\n",
    "    posisjoner, antall = np.unique(array,return_counts=True)\n",
    "    for i in range(0,len(antall)):\n",
    "        andel = antall[i]/len(array)\n",
    "        andeler.append(andel)\n",
    "    np.array(posisjoner)\n",
    "    np.array(andeler)\n",
    "    return posisjoner, andeler\n",
    "        "
   ]
  },
  {
   "cell_type": "markdown",
   "metadata": {},
   "source": [
    "Definerer parametere"
   ]
  },
  {
   "cell_type": "code",
   "execution_count": 6,
   "metadata": {},
   "outputs": [],
   "source": [
    "antall_partikler = 10000\n",
    "antall_steg = 200\n",
    "startpos = 0\n",
    "Bk = list([0.01,1,100])"
   ]
  },
  {
   "cell_type": "markdown",
   "metadata": {},
   "source": [
    "# 4.1"
   ]
  },
  {
   "cell_type": "code",
   "execution_count": 7,
   "metadata": {},
   "outputs": [
    {
     "data": {
      "image/png": "[encoded data removed]",
      "text/plain": [
       "<Figure size 432x288 with 1 Axes>"
      ]
     },
     "metadata": {
      "needs_background": "light"
     },
     "output_type": "display_data"
    },
    {
     "name": "stdout",
     "output_type": "stream",
     "text": [
      "Fig 4.1.1 : partikkelfordelign for 10000 partikler etter 200 steg.\n",
      " Forventingsverdi: 0.03 Standardavvik: 11.431\n"
     ]
    },
    {
     "data": {
      "image/png": "[encoded data removed]",
      "text/plain": [
       "<Figure size 432x288 with 1 Axes>"
      ]
     },
     "metadata": {
      "needs_background": "light"
     },
     "output_type": "display_data"
    },
    {
     "name": "stdout",
     "output_type": "stream",
     "text": [
      "Fig 4.1.2 : partikkelfordelign for 10000 partikler etter 200 steg.\n",
      " Forventingsverdi: 0.121 Standardavvik: 11.4\n"
     ]
    },
    {
     "data": {
      "image/png": "[encoded data removed]",
      "text/plain": [
       "<Figure size 432x288 with 1 Axes>"
      ]
     },
     "metadata": {
      "needs_background": "light"
     },
     "output_type": "display_data"
    },
    {
     "name": "stdout",
     "output_type": "stream",
     "text": [
      "Fig 4.1.3 : partikkelfordelign for 10000 partikler etter 200 steg.\n",
      " Forventingsverdi: -0.081 Standardavvik: 11.59\n"
     ]
    }
   ],
   "source": [
    "for b in Bk:\n",
    "    posisjoner1 = randomWalk(V4_1,antall_partikler,antall_steg,startpos,b)\n",
    "    x1,y1 = vekting(posisjoner1)\n",
    "\n",
    "\n",
    "    #bruker scipy.norm til å tilpasse normalfordeling\n",
    "    mu1, std1 = norm.fit(posisjoner1)\n",
    "    p1 = norm.pdf(x1,mu1,std1)\n",
    "    \n",
    "\n",
    "    \n",
    "    plt.bar(x1,y1,width=0.3)\n",
    "    plt.xlabel(\"$x$\")\n",
    "    plt.title(\"Random walk med $V(x) = k$ og $\\\\beta k =$\" + repr(b))\n",
    "    plt.plot(x1,p1)\n",
    "\n",
    "    plt.show()\n",
    "    print(\"Fig 4.1.\"+str(Bk.index(b)+1), \": partikkelfordelign for\", antall_partikler, \"partikler etter\",antall_steg, \"steg.\"\n",
    "          \"\\n Forventingsverdi:\", round(mu1,3), \"Standardavvik:\",round(std1,3))\n"
   ]
  },
  {
   "cell_type": "markdown",
   "metadata": {},
   "source": [
    "# 4.2"
   ]
  },
  {
   "cell_type": "code",
   "execution_count": 8,
   "metadata": {},
   "outputs": [
    {
     "data": {
      "image/png": "[encoded data removed]",
      "text/plain": [
       "<Figure size 432x288 with 1 Axes>"
      ]
     },
     "metadata": {
      "needs_background": "light"
     },
     "output_type": "display_data"
    },
    {
     "name": "stdout",
     "output_type": "stream",
     "text": [
      "Fig 4.2.1 : partikkelfordelign for 10000 partikler etter 200 steg.\n",
      " Forventingsverdi: -1.48 Standardavvik: 11.478\n"
     ]
    },
    {
     "data": {
      "image/png": "[encoded data removed]",
      "text/plain": [
       "<Figure size 432x288 with 1 Axes>"
      ]
     },
     "metadata": {
      "needs_background": "light"
     },
     "output_type": "display_data"
    },
    {
     "name": "stdout",
     "output_type": "stream",
     "text": [
      "Fig 4.2.2 : partikkelfordelign for 10000 partikler etter 200 steg.\n",
      " Forventingsverdi: -114.889 Standardavvik: 9.081\n"
     ]
    },
    {
     "data": {
      "image/png": "[encoded data removed]",
      "text/plain": [
       "<Figure size 432x288 with 1 Axes>"
      ]
     },
     "metadata": {
      "needs_background": "light"
     },
     "output_type": "display_data"
    },
    {
     "name": "stdout",
     "output_type": "stream",
     "text": [
      "Fig 4.2.3: Partikkelfordeling for 10000 partikler etter 200 steg.\n"
     ]
    }
   ],
   "source": [
    "for i in range(0,2):\n",
    "    posisjoner2 = randomWalk(V4_2,antall_partikler,antall_steg,startpos,Bk[i])\n",
    "    x2,y2 = vekting(posisjoner2)\n",
    "\n",
    "\n",
    "    #bruker scipy.norm til å tilpasse normalfordeling (bare etterspurt på oppg 4.1)\n",
    "    mu2, std2 = norm.fit(posisjoner2)\n",
    "    p2 = norm.pdf(x2,mu2,std2)\n",
    "\n",
    "    plt.bar(x2,y2,width=0.3)\n",
    "    plt.plot(x2,p2)\n",
    "    \n",
    "    plt.title(\"Random walk med $V(x) = kx$ og $\\\\beta k =$\"+ repr(Bk[i]))\n",
    "    \n",
    "    plt.show()\n",
    "    print(\"Fig 4.2.\"+str(i+1), \": partikkelfordelign for\", antall_partikler, \"partikler etter\",antall_steg, \"steg.\"\n",
    "          \"\\n Forventingsverdi:\", round(mu2,3), \"Standardavvik:\",round(std2,3))\n",
    "    \n",
    "#Må plotte separat for Bk=100 fordi potensialet dominerer såpass mye at alle\n",
    "#partikler samler seg på et punkt og det ikke kan tilpasses normalfordeling\n",
    "posisjoner2 = randomWalk(V4_2,antall_partikler,antall_steg,startpos,100)\n",
    "x2,y2 = vekting(posisjoner2)\n",
    "\n",
    "plt.xlim(-(antall_steg+10),(antall_steg+10))\n",
    "plt.bar(x2,y2,width=2.0)\n",
    "\n",
    "plt.title(\"Random walk med $V(x) = kx$ og $\\\\beta k =100$\")\n",
    "plt.xlabel(\"Posisjon $x$\")                                                                  \n",
    "                                                                   \n",
    "plt.show()\n",
    "print(\"Fig 4.2.3: Partikkelfordeling for\", antall_partikler, \"partikler etter\",antall_steg, \"steg.\")"
   ]
  },
  {
   "cell_type": "markdown",
   "metadata": {},
   "source": [
    "For et lineært potensial vil partikkelfordelingen avhenge av $\\beta k$. Dette er fordi $\\beta k$ her kan tolkes som forholdet mellom energien i potensialet og den termiske energien som er tilgjengelig ettersom $\\beta k = k \\cdot \\frac{1}{k_B T} $, der $k_B T$ er et mål på den termiske energien og styrken av potensialet er proporsjonal med k for en gitt posisjon.  \n",
    "Dersom $\\beta k << k_BT$ vil altså potensialet ha lav styrke og tilnærmet ikke virke på partiklene. I figur 4.2.1 ser man at forventningsverdien til posisjonen er noe forskyvet i forhold til tilfeldig sprang i plant potensialet som vist i figur 4.1.1, men partiklene vil fortsatt være normalfordelt.\n",
    "På samme måte ser man i figur 4.2.2 at partikkelfordelingen har flyttet seg mot venstre for $\\beta k = 1$, i retning minkende potensial, og at standardavviket er blitt mindre ettersom potensialet virker sterke på partiklene.\n",
    "\n",
    "Når $\\beta k = 100$ tilsvarer det $k >> k_BT$, altså at potensialet som virker på partiklene er sterkt i forhold til den tilgjengelige termiske energien. Dette kommer tydelig frem i figur 4.2.3. der man ser at alle partiklene er i posisjon $x = -200$ etter 200 steg, dvs. at alle partiklene har flyttet seg mot venstre for hvert steg. Som diskutert tidligere i oppg.3.3 er dette fordi sannsynligheten for å hoppe til venstre blir veldig stor, mens sannsynlighetene for å hoppe mot høyre eller bli stående blir tilnærmet lik null."
   ]
  },
  {
   "cell_type": "markdown",
   "metadata": {},
   "source": [
    "# 4.3"
   ]
  },
  {
   "cell_type": "code",
   "execution_count": 9,
   "metadata": {},
   "outputs": [
    {
     "data": {
      "image/png": "[encoded data removed]",
      "text/plain": [
       "<Figure size 432x288 with 1 Axes>"
      ]
     },
     "metadata": {
      "needs_background": "light"
     },
     "output_type": "display_data"
    },
    {
     "name": "stdout",
     "output_type": "stream",
     "text": [
      "Fig 4.3.1 : partikkelfordelign for 10000 partikler etter 200 steg \n",
      " med ßk = 0.01\n"
     ]
    },
    {
     "data": {
      "image/png": "[encoded data removed]",
      "text/plain": [
       "<Figure size 432x288 with 1 Axes>"
      ]
     },
     "metadata": {
      "needs_background": "light"
     },
     "output_type": "display_data"
    },
    {
     "name": "stdout",
     "output_type": "stream",
     "text": [
      "Fig 4.3.2 : partikkelfordelign for 10000 partikler etter 200 steg \n",
      " med ßk = 1\n"
     ]
    },
    {
     "data": {
      "image/png": "[encoded data removed]",
      "text/plain": [
       "<Figure size 432x288 with 1 Axes>"
      ]
     },
     "metadata": {
      "needs_background": "light"
     },
     "output_type": "display_data"
    },
    {
     "name": "stdout",
     "output_type": "stream",
     "text": [
      "Fig 4.3.3 : partikkelfordelign for 10000 partikler etter 200 steg \n",
      " med ßk = 100\n"
     ]
    }
   ],
   "source": [
    "for b in Bk:\n",
    "    posisjoner3 = randomWalk(V4_3,antall_partikler,antall_steg,startpos,b)\n",
    "    x3,y3 = vekting(posisjoner3)\n",
    "\n",
    "\n",
    "    #bruker scipy.norm til å tilpasse normalfordeling (bare etterspurt på oppg 4.1)\n",
    "    mu3, std3 = norm.fit(posisjoner3)\n",
    "    p3 = norm.pdf(x3,mu3,std3)\n",
    "\n",
    "    plt.bar(x3,y3,width=0.3)\n",
    "    \n",
    "    if (b == 0.01):\n",
    "        plt.plot(x3,p3)\n",
    "        \n",
    "    plt.title(\"Random walk med $V(x) = k(\\\\frac{x}{20} + \\\\sin(\\\\frac{x}{5})$ og $\\\\beta k =$\"+ repr(b))\n",
    "    plt.xlabel(\"Posisjon $x$\")\n",
    "\n",
    "\n",
    "    plt.show()\n",
    "    print(\"Fig 4.3.\"+str(Bk.index(b)+1), \": partikkelfordelign for\", antall_partikler, \"partikler etter\",antall_steg, \"steg\", \n",
    "          \"\\n med ßk = \" + repr(b))"
   ]
  },
  {
   "cell_type": "markdown",
   "metadata": {},
   "source": [
    "For dette potensialet $V(x) = k(\\frac{x}{20} + \\sin(\\frac{x}{5}))$ ser man at verdien av $\\beta k$ påvirker partikkelfordelingen på en tilsvarende måte som i oppgave 4.2. Dette potensialet er en sinuskurve som stiger lineært med økende x-verdier, og man ser derfor en forskyvning mot venstre i figur 4.3.2 når $\\beta k = 1$. \n",
    "\n",
    "For $\\beta k = 100$ ser man derimot at alle partiklene har samlet deg på tre diskrete punkter. Disse punktene tilsvarer bunnpunktene i sinuskurven, der potensialet er lavest."
   ]
  },
  {
   "cell_type": "code",
   "execution_count": 10,
   "metadata": {},
   "outputs": [
    {
     "data": {
      "image/png": "[encoded data removed]",
      "text/plain": [
       "<Figure size 432x288 with 1 Axes>"
      ]
     },
     "metadata": {
      "needs_background": "light"
     },
     "output_type": "display_data"
    },
    {
     "name": "stdout",
     "output_type": "stream",
     "text": [
      "Fig 4.3.4: Potensialet når ßk=100, dvs. for de siste 200 stegene av simuleringen.\n"
     ]
    },
    {
     "data": {
      "image/png": "[encoded data removed]",
      "text/plain": [
       "<Figure size 432x288 with 1 Axes>"
      ]
     },
     "metadata": {
      "needs_background": "light"
     },
     "output_type": "display_data"
    },
    {
     "name": "stdout",
     "output_type": "stream",
     "text": [
      "Fig.4.3.5: Partikkelfordeling etter 200 steg med ßk=0.01, påfulgt av 200 steg med ßk=100.\n"
     ]
    }
   ],
   "source": [
    "posisjoner_runde1= randomWalk(V4_3,antall_partikler,antall_steg,startpos,0.01)\n",
    "                \n",
    "posisjoner_runde2 = randomWalk2(V4_3,antall_partikler,antall_steg,posisjoner_runde1,100)\n",
    "x_r,y_r = vekting(posisjoner_runde2)\n",
    "\n",
    "#plotter potensialet\n",
    "plt.plot(x_r,V4_3(x_r,100))\n",
    "plt.suptitle(\"$V(x) = k(\\\\frac{x}{20} + \\\\sin(\\\\frac{x}{5})$ med $\\\\beta k = 100$\")\n",
    "plt.xlabel(\"Posisjon $x$\")\n",
    "plt.ylabel(\"V(x)\") #burde kanskje inkludere enhet?\n",
    "plt.show()\n",
    "print(\"Fig 4.3.4: Potensialet når ßk=100, dvs. for de siste 200 stegene av simuleringen.\")\n",
    "\n",
    "\n",
    "#plotter fordelingen etter 400 steg\n",
    "plt.bar(x_r,y_r)\n",
    "plt.suptitle(\"Random walk i potensialet $V(x)=k(\\\\frac{x}{20} + \\\\sin(\\\\frac{x}{5})$\")\n",
    "plt.xlabel(\"Posisjon $x$\")\n",
    "\n",
    "plt.show()\n",
    "print(\"Fig.4.3.5: Partikkelfordeling etter 200 steg med ßk=0.01, påfulgt av 200 steg med ßk=100.\")"
   ]
  },
  {
   "cell_type": "markdown",
   "metadata": {},
   "source": [
    "# 4.4"
   ]
  },
  {
   "cell_type": "code",
   "execution_count": 11,
   "metadata": {},
   "outputs": [
    {
     "data": {
      "image/png": "[encoded data removed]",
      "text/plain": [
       "<Figure size 432x288 with 1 Axes>"
      ]
     },
     "metadata": {
      "needs_background": "light"
     },
     "output_type": "display_data"
    },
    {
     "name": "stderr",
     "output_type": "stream",
     "text": [
      "C:\\Users\\Tuva\\Anaconda2\\envs\\Python 3\\lib\\site-packages\\ipykernel_launcher.py:10: RuntimeWarning: overflow encountered in exp\n",
      "  # Remove the CWD from sys.path while we load stuff.\n",
      "C:\\Users\\Tuva\\Anaconda2\\envs\\Python 3\\lib\\site-packages\\ipykernel_launcher.py:2: RuntimeWarning: overflow encountered in exp\n",
      "  \n"
     ]
    },
    {
     "data": {
      "image/png": "[encoded data removed]",
      "text/plain": [
       "<Figure size 432x288 with 1 Axes>"
      ]
     },
     "metadata": {
      "needs_background": "light"
     },
     "output_type": "display_data"
    },
    {
     "name": "stderr",
     "output_type": "stream",
     "text": [
      "C:\\Users\\Tuva\\Anaconda2\\envs\\Python 3\\lib\\site-packages\\ipykernel_launcher.py:6: RuntimeWarning: overflow encountered in exp\n",
      "  \n"
     ]
    },
    {
     "data": {
      "image/png": "[encoded data removed]",
      "text/plain": [
       "<Figure size 432x288 with 1 Axes>"
      ]
     },
     "metadata": {
      "needs_background": "light"
     },
     "output_type": "display_data"
    }
   ],
   "source": [
    "for b in Bk:\n",
    "    posisjoner4 = randomWalk(V4_4,antall_partikler,antall_steg,startpos,b)\n",
    "    x4,y4 = vekting(posisjoner4)\n",
    "\n",
    "\n",
    "    plt.xlim(-(antall_steg+10),(antall_steg+10))\n",
    "    plt.bar(x4,y4,width=0.3)\n",
    "\n",
    "    plt.show()"
   ]
  },
  {
   "cell_type": "markdown",
   "metadata": {},
   "source": [
    "## Oppgave 5"
   ]
  },
  {
   "cell_type": "markdown",
   "metadata": {},
   "source": [
    "Definerer konstanter og parametre"
   ]
  },
  {
   "cell_type": "code",
   "execution_count": 12,
   "metadata": {},
   "outputs": [],
   "source": [
    "alpha = 0.8\n",
    "T_p = 500   #Antall steg per syklus\n",
    "h = 1       #Steglengde\n",
    "N_x = 90    #antall x-verdier i en periode\n",
    "beta = 1/(1.3806*10**-(23)*298)     #Antar romtemperatur\n",
    "k = 4.1142*10**-18       #Velger k slik at k*beta = 1000\n",
    "N_p = 12*N_x    #Partikkeltall\n",
    "antall_sykluser = 10"
   ]
  },
  {
   "cell_type": "code",
   "execution_count": 13,
   "metadata": {},
   "outputs": [],
   "source": [
    "def V_2(x, alpha):\n",
    "    return 2/N_x\n",
    "\n",
    "def V_1(x, alpha):\n",
    "    #Dersom alpha er tilstrekkelig lav, vil ikke potensialet vi får fra V_1 lenger\n",
    "    #tolkes som et sagtann-potensiale, men som et lineært potensiale med negativt stigningstall.\n",
    "    #Håndterer dette unntaket med en if-setning\n",
    "    if(alpha*N_x == 0):\n",
    "        if x > -N_x:\n",
    "            return(-x/((1-alpha)*N_x))\n",
    "        else:\n",
    "            return 0\n",
    "    #For \"normale\" verdier av alpha, dvs ikke 0 eller 1:\n",
    "    if(x<0):\n",
    "        return(-x/((1-alpha)*N_x))\n",
    "    else:\n",
    "        return(x/(alpha*N_x))\n",
    "\n",
    "def koordinatoversetter(x, alpha):\n",
    "    x_verdi_til_pot = x\n",
    "    if x_verdi_til_pot >= N_x + alpha * N_x:\n",
    "        x_verdi_til_pot -= 2 * N_x\n",
    "    elif x_verdi_til_pot >= alpha * N_x:\n",
    "        x_verdi_til_pot -= N_x\n",
    "    return x_verdi_til_pot\n",
    "\n",
    "\n",
    "#Finner sannsynlighetene for å bevege seg opp, ned eller bli værende\n",
    "#Disse funksjonene likner svært på de som er definert over, men de tar også inn en del konstanter, slik at de blir\n",
    "#lettere å bruke igjen for senere utregninger med andre parametre.\n",
    "def p_pluss(x, potensial, beta, k, alpha):\n",
    "    return(1/(1+np.exp(-beta*k*(potensial(x, alpha)-potensial(x+h, alpha)))+np.exp(-beta*k*(potensial(x-h, alpha)-potensial(x+h, alpha)))))\n",
    "\n",
    "def p_null(x, potensial, beta, k, alpha):\n",
    "    return (1/(1+np.exp(-beta*k*(potensial(x+h, alpha)-potensial(x, alpha)))+np.exp(-beta*k*(potensial(x-1, alpha)-potensial(x, alpha)))))\n",
    "\n",
    "def p_minus(x, potensial, beta, k, alpha):\n",
    "    return (1/(1+np.exp(-beta*k*(potensial(x, alpha)-potensial(x-h, alpha)))+np.exp(-beta*k*(potensial(x+1, alpha)-potensial(x-1, alpha)))))\n",
    "\n",
    "#Lager startfordeling for main(startfordeling)\n",
    "def startfordeling1(N_p=90*12,N_x=90):\n",
    "    startfordeling1 = np.array([])\n",
    "    for i in range(2*N_x):\n",
    "        for e in range(int(N_p/(2*N_x))):\n",
    "            startfordeling1 = np.append(startfordeling1, [i])\n",
    "    #Startfordelingen er nå definert med seks partikler i hvert punkt.\n",
    "    return startfordeling1\n",
    "\n",
    "def startfordeling2(N_p=90*12,N_x=90):\n",
    "    startfordeling2 = np.array([])\n",
    "    for i in range(int(N_p/2)):\n",
    "        startfordeling2 = np.append(startfordeling2, 0)\n",
    "    for j in range(int(N_p/2)):\n",
    "        startfordeling2 = np.append(startfordeling2, N_x)\n",
    "    #Startfordeling to har halvparten av partiklene i x=0 og den andre halvparten i x=N_x\n",
    "    return(startfordeling2)\n",
    "\n",
    "def plotFordeling(array):\n",
    "    verdi, antall = np.unique(array, return_counts=True)\n",
    "    #Verdien vil har antallet på korresponderende plass i antall-lista\n",
    "    plt.bar(verdi, antall)\n",
    "#    print(verdi, antall)\n",
    "    plt.ylim(0, max(antall))\n",
    "    plt.xlim(-1, 180)\n",
    "    plt.show()"
   ]
  },
  {
   "cell_type": "code",
   "execution_count": 17,
   "metadata": {},
   "outputs": [],
   "source": [
    "#Lager startfordeling i main()\n",
    "def motorProteins(startfordeling, T_p = 500, alpha = 0.8, beta = 1/(1.3806*10**-(23)*298), k = 4.1142*10**-18, antall_sykluser = 10, N_x=90):\n",
    "    fordeling = startfordeling\n",
    "    partikkelstrømliste = []   \n",
    "    hoppsannsynlighetV_1 = {}\n",
    "    hoppsannsynlighetV_2 = {}\n",
    "\n",
    "    for i in range(2*N_x):\n",
    "        hoppsannsynlighetV_1[i] = [p_minus(koordinatoversetter(i*h, alpha), V_1, beta, k, alpha), p_null(koordinatoversetter(i*h, alpha), V_1, beta, k, alpha),\n",
    "                               p_pluss(koordinatoversetter(i*h, alpha), V_1, beta, k, alpha)]\n",
    "    for i in range(2*N_x):\n",
    "        hoppsannsynlighetV_2[i*h] = [p_minus(i*h, V_2, beta, k, alpha), p_null(i*h, V_2, beta, k, alpha), p_pluss(i*h, V_2, beta, k, alpha)]\n",
    "   \n",
    "    for e in range(0, 2*antall_sykluser):\n",
    "        #Alternerer mellom potensial 2 og 1\n",
    "        if e%2 == 0:\n",
    "            sannsynligheter = hoppsannsynlighetV_2\n",
    "        else:\n",
    "            sannsynligheter = hoppsannsynlighetV_1        \n",
    "        #Vi teller opp antall partikkelsteg etter hvert som tiden går, og lagrer dem i variabelen\n",
    "        #partikkelstrøm\n",
    "        partikkelstrøm = 0\n",
    "        \n",
    "        for i in range(0, T_p):\n",
    "            for j in range(0, len(fordeling)):\n",
    "                tall = random.uniform(0, 1)\n",
    "                x_verdi = fordeling[j]\n",
    "                if tall <= sannsynligheter[x_verdi][0]:\n",
    "                    fordeling[j] -= h\n",
    "                    partikkelstrøm -= 1\n",
    "                    #Vi må passe på at ingen partikler faller utenfor det gyldige området\n",
    "                    if fordeling[j] == -1:\n",
    "                        fordeling[j] = 2 * N_x - 1\n",
    "                elif tall >= 1-sannsynligheter[x_verdi][2]:\n",
    "                    fordeling[j] += h\n",
    "                    partikkelstrøm += 1\n",
    "                    #Igjen: Vi må passe på at ingen partikler faller utenfor det gyldige området\n",
    "                    if fordeling[j] == 2*N_x:\n",
    "                        fordeling[j] = 0\n",
    "        \n",
    "        #plotFordeling(fordeling)\n",
    "        \n",
    "        partikkelstrømliste.append(partikkelstrøm/(len(startfordeling)))\n",
    "    #Har nå lagret partikkelstrømmen per syklushalvdel. Må behandle den litt slik at den ønskede formen oppstår.\n",
    "    gjennomsnittsstrøm = []\n",
    "    for i in range(int(len(partikkelstrømliste)/2)):\n",
    "        gjennomsnittsstrøm.append((partikkelstrømliste[2*i] + partikkelstrømliste[2*i+1])/(2*T_p))\n",
    "    return(gjennomsnittsstrøm)\n"
   ]
  },
  {
   "cell_type": "code",
   "execution_count": null,
   "metadata": {},
   "outputs": [],
   "source": [
    "motorProteins(startfordeling1(),antall_sykluser=1)"
   ]
  },
  {
   "cell_type": "code",
   "execution_count": null,
   "metadata": {},
   "outputs": [],
   "source": [
    "motorProteins(startfordeling2(), alpha=0, antall_sykluser = 1)"
   ]
  },
  {
   "cell_type": "markdown",
   "metadata": {},
   "source": [
    "Simuleringen gir at $J_{avg}$ ikke er null. Det betyr at vi har en netto-strøm i en av retningene, ettersom $J_{avg}$ er definert som summen av alle hopp i positiv x-retning minus summen av hopp i negativ x-retning, delt på antall partikler, delt på antall tidssteg. $J_{avg}$ er altså et mål på hvor mange hopp det skjer per partikkel per tidsenhet i en bestemt retning. I et til konstant potensial, vil netto strøm være svært nær null, ettersom netto partikkelstrøm kun vil være bestemt av hopp med like stor sannsynlighet for å gå i positiv som i negativ retning. Når partiklene skifter potensial, vil partiklene falle ned mot lavest potensial. Den lengste ryggen av sagtannen vil fange opp flest partikler, og vil bestemme i hvilken retning det blir netto drift. Ettersom $\\alpha = 0,8$ og $\\alpha = 0,2$ gir opphav til to speilvendte potensialfunskjoner, er det rimelig å anta at resultatene blir omtrent like, bare med omvendt fortegn.\n",
    "\n",
    "$J_{avg}(0)$ er omtrent dobbelt så stor som $J_{avg}(n)$. Det har med at partiklene starter helt uniformt spredt utover. Da vil sagtennene fange mange partikler, og forårsake stor netto drift. Hver gang potensialene skifter, ligger alle partiklene (med det sterke potensialet $\\beta k = 1000$) samlet i bunnpunktene. Partiklene vil spre seg tilfeldig utover, som skaper en gaussdistribusjon om bunnpunktene. En andel av gaussdistribusjonen vil ha driftet langt nok til å bli fanget opp av den neste sagtannen, men denne andelen vil være mindre enn andelen som blir fanget opp når spredningen av partiklene er uniform. Derfor er driften i den første syklusen større enn i de senere syklusene."
   ]
  },
  {
   "cell_type": "code",
   "execution_count": null,
   "metadata": {},
   "outputs": [],
   "source": [
    "#Oppgave 5.2\n",
    "\n",
    "x_verdier =[]\n",
    "y_verdier=[]\n",
    "for t_p in range(1,500,10):\n",
    "    x_verdier.append(t_p)\n",
    "    y_verdier.append(motorProteins(startfordeling2(N_p = 3600, N_x = 90),T_p = t_p, alpha = 0.8, beta = 1, k = 1000, antall_sykluser = 1, N_x = 90) [0])\n",
    "\n",
    "plt.plot(x_verdier, y_verdier)    \n",
    "\n",
    "plt.xlabel(r'$T_{p}$')\n",
    "plt.ylabel(r'$J_{avg}$')\n",
    "plt.title(r\"$J_{avg}$ som funksjon av $T_{p}$\")\n",
    "plt.show()\n",
    "print(\"Figur 5.2.1\")"
   ]
  },
  {
   "cell_type": "markdown",
   "metadata": {},
   "source": [
    "Figur 5.2.1 viser at for lave verdier av $T_p$, blir strømningen tilnærmet lik null. Det skjer fordi partiklene ikke rekker å spre seg nok utover i det konstante potensialet til å bli fanget opp av en ny sagtann i sagtannpotensialet. Etter hvert som tiden går vil flere og flere partikler ha driftet langt nok, og $J_{avg}$ øker. Ettersom $J_{avg}$ er partikkelstrøm per partikkel per tid, synes det fra grafen at etter hvert som man skrur tiden opp, vil ikke økningen av antall partikler gjøre opp for at tiden øker, og $J_{avg}$ flater ut. Dersom vi hadde latt $T_p$ bli enda større, er det å forvente at $J_{avg}$ går mot null, fordi det per syklus kun finnes et endelig antall partikler som kan skape $J_{avg}$. "
   ]
  },
  {
   "cell_type": "markdown",
   "metadata": {},
   "source": [
    "# Oppgave 6"
   ]
  },
  {
   "cell_type": "markdown",
   "metadata": {},
   "source": [
    "Definerer den analytiske strømningsfunksjonen $J_{avg}$."
   ]
  },
  {
   "cell_type": "code",
   "execution_count": null,
   "metadata": {},
   "outputs": [],
   "source": [
    "def J_avg(alfa, N_x, T_p):\n",
    "    return (N_x/(4*T_p))*(special.erfc((alfa*N_x/2)*np.sqrt(3/T_p)) - special.erfc((((1-alfa)*N_x)/2)*np.sqrt(3/T_p)))"
   ]
  },
  {
   "cell_type": "markdown",
   "metadata": {},
   "source": [
    "# 5.3 & 6.1"
   ]
  },
  {
   "cell_type": "code",
   "execution_count": null,
   "metadata": {},
   "outputs": [],
   "source": [
    "x_verdier = []\n",
    "y_verdier = []\n",
    "\n",
    "alpha=np.linspace(0,1,20)\n",
    "\n",
    "for i in range(0,20):\n",
    "    x_verdier.append(i/20)\n",
    "    y_verdier.append(motorProteins(startfordeling2(3600,N_x = 90), T_p=500, alpha=i/20, beta=1, k=1000, antall_sykluser= 1 ,N_x=90) [0])\n",
    "\n",
    "plt.figure()\n",
    "plt.plot(alpha, J_avg(alpha, 90,500), label='Analytisk')\n",
    "plt.plot(x_verdier, y_verdier, label='Numerisk')    \n",
    "plt.xlabel(r'$\\alpha$')\n",
    "plt.ylabel(r'$J_{avg}$')\n",
    "plt.title(r\"$J_{avg}$ som funksjon av $\\alpha$\")\n",
    "plt.legend()\n",
    "plt.show()\n",
    "\n",
    "print(\"Figur 6.1.1\")"
   ]
  },
  {
   "cell_type": "markdown",
   "metadata": {},
   "source": [
    "Oppg. 5.3) Det numeriske plotet av $J_{avg}$ i figur 6.1.1 viser at netto strømning per partikkel per syklus er antisymmetrisk om $\\alpha = 0.5$. Det er å forvente ettersom to verdier i like stor avstand fra $0.5$ lager like potensialfunksjoner, bare speilvendte av hverandre. Dette blir som i eksempelet $\\alpha = 0.8$ og $\\alpha = 0.2$. I $\\alpha = 0.5$, vil sagtennene ha like lange sider, og det vil i snitt bli $0$ netto drift. I grensen $\\alpha = 0$ vil sagtannen bare ha en lang side, som fanger opp halvparten av normalfordelingen som oppstår om bunnpunktet når partiklene befinner seg i det konstante potensialet. Det gir derfor den største driften."
   ]
  },
  {
   "cell_type": "markdown",
   "metadata": {},
   "source": [
    "Blå graf i figur 6.1.1 viser den analytiske strømningsfunksjonen $J_{avg}$ som funksjon av $\\alpha$, mens gul graf viser den numeriske. I følge grafen vil det bli en netto positiv strøm for $\\alpha$ mindre enn 0,5. Disse verdiene for $\\alpha$vil gi et sagtannpotensial der tennene er brattest på høyre side. De fleste partiklene vil derfor flytte seg til høyre mot et lavere potensial, som gir en total partikkelstrøm mot høyre som er positiv. Denne strømmen vil være sterkest jo lavere verdien for$\\alpha$ er. For $\\alpha$ større enn 0,5 vil sagtannpotensialet bli speilvendt, som gir en netto negativ strøm. I tilfelle $\\alpha$ lik 0,5 blir det en netto strømning lik 0. Dette kommer av at like mange av partiklene vil bevege seg mot høyre og venstre grunnet sagtenner som er like bratte på begge sider."
   ]
  },
  {
   "cell_type": "markdown",
   "metadata": {},
   "source": [
    "# 6.2"
   ]
  },
  {
   "cell_type": "code",
   "execution_count": null,
   "metadata": {},
   "outputs": [],
   "source": [
    "x_verdier =[]\n",
    "y_verdier=[]\n",
    "T_p2 = np.linspace(80,1500,20)\n",
    "\n",
    "for t_p in range(80,1500,71):\n",
    "    x_verdier.append(t_p)\n",
    "    y_verdier.append(motorProteins(startfordeling2(N_p = 40*90,N_x = 10),T_p = t_p, alpha = 0.8, beta= 1, k=1000, antall_sykluser = 1,N_x = 10) [0])\n",
    "\n",
    "plt.figure()\n",
    "plt.plot(x_verdier, y_verdier, label='Numerisk')\n",
    "plt.plot(T_p2, J_avg(0.8,10,T_p2), label='Analytisk')\n",
    "plt.xlabel(r'$T_{p}$')\n",
    "plt.ylabel(r'$J_{avg}$')\n",
    "plt.title(r\"$J_{avg}$ som funksjon av $T_{p}$\")\n",
    "plt.legend()\n",
    "plt.show()\n",
    "\n",
    "print(\"Figur 6.2.1\")"
   ]
  },
  {
   "cell_type": "markdown",
   "metadata": {},
   "source": [
    "Blå graf i figur 6.2.1 viser den numeriske strømningsfunksjonen, $J_{avg}$, som funksjon av $T_{p}$, mens den oransje viser den analytiske. I følge begge grafene vil strømningen gå mot 0 når tiden øker. Dette kan forstås både matematisk og fysisk. I den analytiske strømningsfunksjonen deles antall diskrete punkter, $N_{x}$, på antall tidssteg, $T_{p}$. Dermed vil $J_{avg}$ bli strømningen per tidsenheten, som fører til at når antall tidssteg blir veldig stort vil strømningsfunksjonen gå mot 0. \n",
    "En fysisk tolkning av grafen for den numeriske løsningen er at i starten av simuleringen er det et maks antall partikler som kan bevege seg. Etter en viss tid vil partikkelbevegelsen bli mindre siden partiklene har falt til ro i sitt potensial, og dermed vil $J_{avg}$ gå mot 0.\n",
    "Figur 6.2.1 viser også at den analytiske grafen går mer mot 0 enn den numeriske. Dette kommer av at den analytiske er mer preget av tilfeldigheter og det er dermed mulig at det fortsatt er en netto drift av partikler etter lang tid. "
   ]
  },
  {
   "cell_type": "markdown",
   "metadata": {},
   "source": [
    "# 6.3"
   ]
  },
  {
   "cell_type": "code",
   "execution_count": null,
   "metadata": {},
   "outputs": [],
   "source": [
    "x_verdier = []\n",
    "y1_verdier = []\n",
    "y2_verdier = []\n",
    "y3_verdier = []\n",
    "y4_verdier = []\n",
    "y5_verdier = []\n",
    "y6_verdier = []\n",
    "\n",
    "alpha=np.linspace(0,1,20)\n",
    "\n",
    "for i in range(0,20):\n",
    "    x_verdier.append(i/20)\n",
    "    y1_verdier.append(motorProteins(startfordeling2(1080,N_x = 90), T_p=500, alpha=i/20, beta=1, k=0.01, antall_sykluser= 1 ,N_x=90) [0])\n",
    "    y2_verdier.append(motorProteins(startfordeling2(1080,N_x = 90), T_p=500, alpha=i/20, beta=1, k=1, antall_sykluser= 1 ,N_x=90) [0])\n",
    "    y3_verdier.append(motorProteins(startfordeling2(1080,N_x = 90), T_p=500, alpha=i/20, beta=1, k=2, antall_sykluser= 1 ,N_x=90) [0])    \n",
    "    y4_verdier.append(motorProteins(startfordeling2(1080,N_x = 90), T_p=500, alpha=i/20, beta=1, k=3, antall_sykluser= 1 ,N_x=90) [0])\n",
    "    y5_verdier.append(motorProteins(startfordeling2(1080,N_x = 90), T_p=500, alpha=i/20, beta=1, k=5, antall_sykluser= 1 ,N_x=90) [0])\n",
    "    y6_verdier.append(motorProteins(startfordeling2(1080,N_x = 90), T_p=500, alpha=i/20, beta=1, k=10, antall_sykluser= 1 ,N_x=90) [0])    \n",
    "    \n",
    "plt.figure()\n",
    "plt.plot(x_verdier, y1_verdier, label=r'Numerisk, $\\beta k=0.01$') #bk=0.01\n",
    "plt.plot(x_verdier, y2_verdier, label=r'Numerisk, $\\beta k=1$') #bk=1\n",
    "plt.plot(x_verdier, y3_verdier, label=r'Numerisk, $\\beta k=2$') #bk=2\n",
    "plt.plot(x_verdier, y4_verdier, label=r'Numerisk, $\\beta k=3$') #bk=3\n",
    "plt.plot(x_verdier, y5_verdier, label=r'Numerisk, $\\beta k=5$') #bk=5\n",
    "plt.plot(x_verdier, y6_verdier, label=r'Numerisk, $\\beta k=10$') #bk=10\n",
    "plt.plot(alpha, J_avg(alpha, 90,500), 'r--' ,label='Analytisk')  \n",
    "plt.xlabel(r'$\\alpha$')\n",
    "plt.ylabel(r'$J_{avg}$')\n",
    "plt.title(r\"$J_{avg}$ som funksjon av $\\alpha$\")\n",
    "plt.legend()\n",
    "plt.show()\n",
    "\n",
    "print(\"Figur 6.3.1\")\n"
   ]
  },
  {
   "cell_type": "markdown",
   "metadata": {},
   "source": [
    "Figur 6.3.1 viser $J_{avg}$ som funksjon av $\\alpha$ der den numeriske grafen er plottet for ulike verdier av $\\beta k$. I figuren er det tydelig at jo høyere $\\beta k$ blir, jo mer samsvarer det numeriske plottet med det analytiske. Dette stemmer med antakelsen om at for store verdier for $\\beta k$, som er forholdet mellom den potensielle og termiske energien, vil potensialet dominere. Den analytiske løsningen ser kun på hvordan potensialet påvirker partikkelbevegelsen, og derfor vil det numeriske plottet med $\\beta k =10$ ligge nærmere den analytiske enn for lavere verdier. Jo mindre $\\beta k$ blir, jo mer vil den termiske energien påvirke simuleringen og forskjellen mellom analytisk og numerisk løsning øker. "
   ]
  },
  {
   "cell_type": "markdown",
   "metadata": {},
   "source": [
    "# 6.4"
   ]
  },
  {
   "cell_type": "markdown",
   "metadata": {},
   "source": [
    "Den analytiske løsningen for strømningsfunksjonen er ikke komplett. Dette kommer av at den kun ser på hvordan partiklene vil bevege seg i forhold til potensialet de befinner seg i. I et flatt potensial vil de normalfordeles, mens i sagtannpotensialet vil de søke et potensialminima. Den numeriske løsningen tar derimot høyde for at partiklene også har en viss termisk energi som påvirker partikkelbevegelsen slik at de kan bevege seg mer fritt i potensialet. Når $\\beta k$ blir lav vil den termiske energien gi en mer tilfeldig strømning i systemet, mens den potensielle energien vil bli mindre avgjørende. Den analytiske løsningen holder derfor ikke når forholdet mellom den potensielle og den termiske energien blir lite. "
   ]
  }
 ],
 "metadata": {
  "kernelspec": {
   "display_name": "Python 3",
   "language": "python",
   "name": "python3"
  },
  "language_info": {
   "codemirror_mode": {
    "name": "ipython",
    "version": 3
   },
   "file_extension": ".py",
   "mimetype": "text/x-python",
   "name": "python",
   "nbconvert_exporter": "python",
   "pygments_lexer": "ipython3",
   "version": "3.7.6"
  }
 },
 "nbformat": 4,
 "nbformat_minor": 2
}
