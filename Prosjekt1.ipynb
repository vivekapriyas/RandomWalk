{
 "cells": [
  {
   "cell_type": "markdown",
   "metadata": {},
   "source": [
    "Sannsynligheten for å finne en partikkel i en posisjon x med potensiell energi $V(x)$ er \n",
    "$P(x)=Ze^{-\\beta V(x)}$, \n",
    "der $\\beta=\\frac{1}{k_bT}$ hvor $k_b$ er Boltzmanns konstant og T er temperaturen. Partisjonsfunksjonen $Z$ summerer over de ulike energitilstandene i et system, $Z=\\sum_{i=1}^{\\infty}e^{-\\beta V(x)}$. \n",
    "Sannsynligheten for å finne en gitt partikkel med energi $E_i$ blir dermed \n",
    "$\\pi_i = Z^{-1} e^{-\\beta E_i}$.\n",
    "\n",
    "Sannsynligheten for at en partikkel går til høyre, venstre eller står i ro kan beregnes ut i fra dette. Partisjonsfunksjonen for et slikt system blir\n",
    "\n",
    "$Z=e^{-\\beta V(x_0-1)}+e^{-\\beta V(x_0)}+e^{-\\beta V(x_0-1)}$,\n",
    "\n",
    "der $x_0$ er startposisjonen til partikkelen. Sannsynligheten for å gå til høyre, $P^{+}$, blir da\n",
    "\n",
    "$P^{+}=Z^{-1}e^{-\\beta V(x_0 +1)} = \\frac{e^{-\\beta V(x_0 +1)}}{e^{-\\beta V(x_0 -1)}+e^{-\\beta V(x_0)}+e^{-\\beta V(x)_0 + 1}} = \\frac{1}{e^{\\beta V(x_0 +1)}(e^{-\\beta V(x_0 -1)}+e^{-\\beta V(x_0)}+e^{-\\beta V(x_0 -1)})}$.\n",
    "\n",
    "$P^{+}=\\frac{1}{e^{-\\beta (V(x_0 -1)-V(x_0 +1)} + e^{-\\beta (V(x_0)-V(x_0 +1))}}$\n",
    "\n",
    "Tilsvarende utregning gir at sannsynligheten for at partikkelen står i ro, $P^{0}$ eller går til venstre, $P^{-}$, blir henholdsvis\n",
    "\n",
    "$P^{0}=\\frac{1}{e^{-\\beta (V(x_0 -1)-V(x_0)} + e^{-\\beta (V(x_0 +1)-V(x_0))}}$\n",
    "\n",
    "og\n",
    "\n",
    "$P^{-}=\\frac{1}{e^{-\\beta (V(x_0 +1)-V(x_0 -1)} + e^{-\\beta (V(x_0)-V(x_0 -1))}}$."
   ]
  },
  {
   "cell_type": "code",
   "execution_count": null,
   "metadata": {},
   "outputs": [],
   "source": [
    "import numpy as np\n",
    "import matplotlib.pyplot as plt\n",
    "import scipy\n",
    "import random"
   ]
  },
  {
   "cell_type": "markdown",
   "metadata": {},
   "source": [
    "Definerer konstanter og potensial"
   ]
  },
  {
   "cell_type": "code",
   "execution_count": null,
   "metadata": {},
   "outputs": [],
   "source": [
    "T = 273.15 #[K]\n",
    "k_B = 1.38*10**(-23) #[J/K]\n",
    "B = 1/k_B*T\n",
    "Bk = 0.01\n",
    "k= Bk/B #[J]\n",
    "\n",
    "\n",
    "def V(x):\n",
    "    return k"
   ]
  },
  {
   "cell_type": "markdown",
   "metadata": {},
   "source": [
    "Definerer sannsynligheter"
   ]
  },
  {
   "cell_type": "code",
   "execution_count": null,
   "metadata": {},
   "outputs": [],
   "source": [
    "def p_pluss(x_0):\n",
    "    p = 1/(1 + np.exp(-B*(V(x_0 -1)-V(x_0+1))) + np.exp(-B*(V(x_0)-V(x_0+1))))\n",
    "    return p\n",
    "\n",
    "def p_0(x_0):\n",
    "    p = 1/(1 + np.exp(-B*(V(x_0 -1)-V(x_0))) + np.exp(-B*(V(x_0+1)-V(x_0))))\n",
    "    return p\n",
    "\n",
    "def p_minus(x_0):\n",
    "    p = 1/(1 + np.exp(-B*(V(x_0 +1)-V(x_0-1))) + np.exp(-B*(V(x_0)-V(x_0-1))))\n",
    "    return p"
   ]
  },
  {
   "cell_type": "markdown",
   "metadata": {},
   "source": [
    "Definerer random walk funksjonen"
   ]
  },
  {
   "cell_type": "code",
   "execution_count": null,
   "metadata": {},
   "outputs": [],
   "source": [
    "def randomWalk(antall_partikler, antall_steg):\n",
    "    posisjoner = np.zeros(antall_partikler)\n",
    "    for p in range(0,antall_partikler):\n",
    "        pos = startpos\n",
    "        for s in range (0,antall_steg):\n",
    "            tilfeldig = random.uniform(0.0,1.0)\n",
    "            if (tilfeldig <= p_minus(startpos)):\n",
    "                pos -= 1\n",
    "            elif (tilfeldig > (1-p_pluss(startpos))):\n",
    "                pos += 1\n",
    "            else:\n",
    "                pos = pos\n",
    "        posisjoner[p] = pos\n",
    "    return posisjoner\n"
   ]
  },
  {
   "cell_type": "markdown",
   "metadata": {},
   "source": [
    "Vekting av elementer i liste"
   ]
  },
  {
   "cell_type": "code",
   "execution_count": null,
   "metadata": {},
   "outputs": [],
   "source": [
    "def vekting(array):\n",
    "    andeler = []\n",
    "    posisjoner, antall = np.unique(array,return_counts=True)\n",
    "    for i in range(0,len(antall)):\n",
    "        andel = antall[i]/len(array)\n",
    "        andeler.append(andel)\n",
    "    np.array(posisjoner)\n",
    "    np.array(andeler)\n",
    "    return posisjoner, andeler\n",
    "        "
   ]
  },
  {
   "cell_type": "markdown",
   "metadata": {},
   "source": [
    "Definerer parametere ??"
   ]
  },
  {
   "cell_type": "code",
   "execution_count": null,
   "metadata": {},
   "outputs": [],
   "source": [
    "antall_partikler = 10000\n",
    "antall_steg = 200\n",
    "startpos = 0\n"
   ]
  },
  {
   "cell_type": "markdown",
   "metadata": {},
   "source": [
    "Prøver å kjøre"
   ]
  },
  {
   "cell_type": "code",
   "execution_count": null,
   "metadata": {},
   "outputs": [],
   "source": [
    "posisjoner = randomWalk(antall_partikler,antall_steg)\n",
    "x,y = vekting(posisjoner)"
   ]
  },
  {
   "cell_type": "markdown",
   "metadata": {},
   "source": [
    "Prøver å plotte"
   ]
  },
  {
   "cell_type": "code",
   "execution_count": null,
   "metadata": {},
   "outputs": [],
   "source": [
    "plt.bar(x,y,width=0.3)\n",
    "plt.show()"
   ]
  },
  {
   "cell_type": "markdown",
   "metadata": {},
   "source": [
    "## oppg 5.1"
   ]
  },
  {
   "cell_type": "markdown",
   "metadata": {},
   "source": [
    "Definerer konstanter og parametre"
   ]
  },
  {
   "cell_type": "code",
   "execution_count": null,
   "metadata": {},
   "outputs": [],
   "source": [
    "alpha = 0.8\n",
    "T_p = 500   #Antall steg per syklus\n",
    "h = 1       #Steglengde\n",
    "N_x = 90    #antall x-verdier i en periode\n",
    "beta = 1/(1.3806*10**-(23)*298)     #Antar romtemperatur\n",
    "k = 4.1142*10**-18       #Velger k slik at k*beta = 1000\n",
    "N_p = 12*N_x    #Partikkeltall\n",
    "antall_sykluser = 10"
   ]
  },
  {
   "cell_type": "code",
   "execution_count": null,
   "metadata": {},
   "outputs": [],
   "source": [
    "def V_2(x):\n",
    "    return 2*k/N_x\n",
    "\n",
    "#Må passe på at punktene får riktig x-verdi\n",
    "def V_1(x):\n",
    "    if(x<0):\n",
    "        return(-k*x/((1-alpha)*N_x))\n",
    "    else:\n",
    "        return(k*x/(alpha*N_x))\n",
    "\n",
    "def koordinatoversetter(x):\n",
    "    x_verdi_til_pot = x\n",
    "    if x_verdi_til_pot >= N_x + alpha * N_x:\n",
    "        x_verdi_til_pot -= 2 * N_x\n",
    "    elif x_verdi_til_pot >= alpha * N_x:\n",
    "        x_verdi_til_pot -= N_x\n",
    "    return x_verdi_til_pot\n",
    "\n",
    "\n",
    "#Finner sannsynlighetene for å bevege seg opp, ned eller bli værende\n",
    "def p_pluss(x, potensial):\n",
    "    return(1/(1+np.exp(-beta*(potensial(x)-potensial(x+h)))+np.exp(-beta*(potensial(x-h)-potensial(x+h)))))\n",
    "\n",
    "def p_null(x, potensial):\n",
    "    return (1 / (1 + np.exp(-beta * (potensial(x + h) - potensial(x))) + np.exp(\n",
    "        -beta * (potensial(x - 1) - potensial(x)))))\n",
    "def p_minus(x, potensial):\n",
    "    return (1 / (1 + np.exp(-beta * (potensial(x) - potensial(x - h))) + np.exp(\n",
    "        -beta * (potensial(x + 1) - potensial(x -1)))))\n",
    "\n",
    "def plotFordeling(array):\n",
    "    verdi, antall = np.unique(array, return_counts=True)\n",
    "    #Verdien vil har antallet på korresponderende plass i antall-lista\n",
    "    plt.bar(verdi, antall)\n",
    "    print(verdi, antall)\n",
    "    plt.ylim(0, max(antall))\n",
    "    plt.xlim(-1, 180)\n",
    "    plt.show()"
   ]
  },
  {
   "cell_type": "code",
   "execution_count": null,
   "metadata": {},
   "outputs": [],
   "source": [
    "#Lager startfordeling i main()\n",
    "def main():\n",
    "    partikkelstrømliste = []\n",
    "    fordeling = np.array([])\n",
    "    for i in range(2*N_x):\n",
    "        for e in range(6):\n",
    "            fordeling = np.append(fordeling, [i])\n",
    "    #Startfordelingen er nå definert med seks partikler i hvert punkt.\n",
    "    \n",
    "    hoppsannsynlighetV_1 = {}\n",
    "    hoppsannsynlighetV_2 = {}\n",
    "    #x_er heltallsverdier, er viktig at denne løkken ikke skaper feil pga utregninger\n",
    "    \n",
    "    for i in range(int(round(-(1-alpha)*N_x)), int(alpha*N_x)):\n",
    "        hoppsannsynlighetV_1[i] = [p_minus(i*h, V_1), p_null(i*h, V_1), p_pluss(i*h, V_1)]\n",
    "    print(hoppsannsynlighetV_1)\n",
    "    \n",
    "    for i in range(2*N_x):\n",
    "        hoppsannsynlighetV_2[i] = [p_minus(i*h, V_2), p_null(i*h, V_2), p_pluss(i*h, V_2)]\n",
    "    print(hoppsannsynlighetV_2)\n",
    "   \n",
    "    for k in range(0, 2*antall_sykluser):\n",
    "        #Alternerer mellom potensial 2 og 1\n",
    "        if k%2 == 0:\n",
    "            sannsynligheter = hoppsannsynlighetV_2\n",
    "        else:\n",
    "            sannsynligheter = hoppsannsynlighetV_1\n",
    "        \n",
    "        #Vi teller opp antall partikkelsteg etter hvert som tiden går, og lagrer dem i variabelen\n",
    "        #partikkelstrøm\n",
    "        partikkelstrøm = 0\n",
    "        \n",
    "        for i in range(0, T_p):\n",
    "            for j in range(0, len(fordeling)):\n",
    "                tall = random.uniform(0, 1)\n",
    "                if k%2 == 0:\n",
    "                    #X-verdien til potensial 2 kan stå som den er slik funksjonen er definert\n",
    "                    x_verdi = fordeling[j]\n",
    "                else:\n",
    "                    #Vi trenger kun å transformere x-koordinatet i potensial 1.\n",
    "                    x_verdi = koordinatoversetter(fordeling[j])\n",
    "                if tall <= sannsynligheter[x_verdi][0]:\n",
    "                    fordeling[j] -= h\n",
    "                    partikkelstrøm -= 1\n",
    "                    #Vi må passe på at ingen partikler faller utenfor det gyldige området\n",
    "                    if fordeling[j] == -1:\n",
    "                        fordeling[j] = 179\n",
    "                elif tall >= 1-sannsynligheter[x_verdi][2]:\n",
    "                    fordeling[j] += h\n",
    "                    partikkelstrøm += 1\n",
    "                    #Igjen: Vi må passe på at ingen partikler faller utenfor det gyldige området\n",
    "                    if fordeling[j] == 180:\n",
    "                        fordeling[j] = 0\n",
    "        \n",
    "        plotFordeling(fordeling)\n",
    "        \n",
    "        partikkelstrømliste.append(partikkelstrøm/(6*2*N_x))\n",
    "        #Har nå lagret partikkelstrømmen per syklushalvdel. Må behandle den litt slik at den ønskede formen oppstår.\n",
    "    \n",
    "    print(partikkelstrømliste)\n",
    "    gjennomsnittsstrøm = []\n",
    "    for i in range(int(len(partikkelstrømliste)/2)):\n",
    "        gjennomsnittsstrøm.append((partikkelstrømliste[2*i] + partikkelstrømliste[2*i+1])/(2*T_p))\n",
    "    print(gjennomsnittsstrøm)\n"
   ]
  },
  {
   "cell_type": "code",
   "execution_count": null,
   "metadata": {},
   "outputs": [],
   "source": [
    "main()"
   ]
  },
  {
   "cell_type": "code",
   "execution_count": null,
   "metadata": {},
   "outputs": [],
   "source": []
  }
 ],
 "metadata": {
  "kernelspec": {
   "display_name": "Python 3",
   "language": "python",
   "name": "python3"
  },
  "language_info": {
   "codemirror_mode": {
    "name": "ipython",
    "version": 3
   },
   "file_extension": ".py",
   "mimetype": "text/x-python",
   "name": "python",
   "nbconvert_exporter": "python",
   "pygments_lexer": "ipython3",
   "version": "3.7.1"
  }
 },
 "nbformat": 4,
 "nbformat_minor": 2
}
