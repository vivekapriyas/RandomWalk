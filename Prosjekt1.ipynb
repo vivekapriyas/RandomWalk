{
 "cells": [
  {
   "cell_type": "code",
   "execution_count": null,
   "metadata": {},
   "outputs": [],
   "source": [
    "import numpy as np\n",
    "import matplotlib.pyplot as plt\n",
    "import scipy\n",
    "import random"
   ]
  },
  {
   "cell_type": "markdown",
   "metadata": {},
   "source": [
    "Definerer konstanter og potensial"
   ]
  },
  {
   "cell_type": "code",
   "execution_count": null,
   "metadata": {},
   "outputs": [],
   "source": [
    "T = 273.15 #[K]\n",
    "k_B = 1.38*10**(-23) #[J/K]\n",
    "B = 1/k_B*T\n",
    "Bk = 0.01\n",
    "k= Bk/B #[J]\n",
    "\n",
    "\n",
    "def V(x):\n",
    "    return k"
   ]
  },
  {
   "cell_type": "markdown",
   "metadata": {},
   "source": [
    "Definerer sannsynligheter"
   ]
  },
  {
   "cell_type": "code",
   "execution_count": null,
   "metadata": {},
   "outputs": [],
   "source": [
    "def p_pluss(x_0):\n",
    "    p = 1/(1 + np.exp(-B*(V(x_0 -1)-V(x_0+1))) + np.exp(-B*(V(x_0)-V(x_0+1))))\n",
    "    return p\n",
    "\n",
    "def p_0(x_0):\n",
    "    p = 1/(1 + np.exp(-B*(V(x_0 -1)-V(x_0))) + np.exp(-B*(V(x_0+1)-V(x_0))))\n",
    "    return p\n",
    "\n",
    "def p_minus(x_0):\n",
    "    p = 1/(1 + np.exp(-B*(V(x_0 +1)-V(x_0-1))) + np.exp(-B*(V(x_0)-V(x_0-1))))\n",
    "    return p"
   ]
  },
  {
   "cell_type": "markdown",
   "metadata": {},
   "source": [
    "Definerer parametere ??"
   ]
  },
  {
   "cell_type": "code",
   "execution_count": null,
   "metadata": {},
   "outputs": [],
   "source": [
    "antall_partikler = 10\n",
    "antall_steg = 10\n",
    "startpos = 0\n",
    "\n",
    "pluss = p_pluss(startpos)\n",
    "minus = p_minus(startpos)"
   ]
  },
  {
   "cell_type": "markdown",
   "metadata": {},
   "source": [
    "Definerer random walk funksjonen"
   ]
  },
  {
   "cell_type": "code",
   "execution_count": null,
   "metadata": {},
   "outputs": [],
   "source": [
    "def randomWalk(antall_partikler, antall_steg):\n",
    "    for p in range(0,antall_partikler):\n",
    "        posisjoner = np.zeros(antall_partikler)\n",
    "        pos = startpos\n",
    "        for s in range (0,antall_steg):\n",
    "            tilfeldig = random.uniform(0.0,1.0)\n",
    "            if (tilfeldig <= minus):\n",
    "                pos -= 1\n",
    "            elif (tilfeldig > (1-pluss)):\n",
    "                pos += 1\n",
    "            else:\n",
    "                pos = pos\n",
    "        posisjoner[p] = pos\n",
    "    return posisjoner\n"
   ]
  },
  {
   "cell_type": "markdown",
   "metadata": {},
   "source": [
    "Vekting av elementer i liste"
   ]
  },
  {
   "cell_type": "code",
   "execution_count": null,
   "metadata": {},
   "outputs": [],
   "source": [
    "def vekting(liste):\n",
    "    fordeling = []\n",
    "    for e in liste:\n",
    "        if e not in fordeling:\n",
    "            antall = liste.count(e)\n",
    "            andel = antall/len(liste)\n",
    "            fordeling.append([e,andel])\n",
    "            np.array(fordeling)\n",
    "    return fordeling\n",
    "\n",
    "def vekting2(array):\n",
    "    fordeling = []\n",
    "    posisjoner, antall = np.unique(array,return_counts=True)\n",
    "    print(\"pos:\",posisjoner,\"antall:\",antall)\n",
    "    for i in range(0,len(antall)):\n",
    "        andel = antall[i]/len(array)\n",
    "        fordeling.append([posisjoner[i],andel])\n",
    "    return fordeling\n",
    "        "
   ]
  },
  {
   "cell_type": "markdown",
   "metadata": {},
   "source": [
    "Prøver å kjøre"
   ]
  },
  {
   "cell_type": "code",
   "execution_count": null,
   "metadata": {},
   "outputs": [],
   "source": [
    "test = [1,2,3,-1,-2,0,2,1,-1,-2,3,0,1,1,]\n",
    "np.array(test)\n",
    "test1 = vekting2(test)\n",
    "print(test)"
   ]
  },
  {
   "cell_type": "code",
   "execution_count": null,
   "metadata": {},
   "outputs": [],
   "source": []
  }
 ],
 "metadata": {
  "kernelspec": {
   "display_name": "Python 3",
   "language": "python",
   "name": "python3"
  },
  "language_info": {
   "codemirror_mode": {
    "name": "ipython",
    "version": 3
   },
   "file_extension": ".py",
   "mimetype": "text/x-python",
   "name": "python",
   "nbconvert_exporter": "python",
   "pygments_lexer": "ipython3",
   "version": "3.7.1"
  }
 },
 "nbformat": 4,
 "nbformat_minor": 2
}
